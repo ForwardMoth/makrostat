{
 "cells": [
  {
   "cell_type": "markdown",
   "metadata": {
    "id": "B-V5Jxhhg_ig"
   },
   "source": [
    "# Лабораторная работа № 3 на питоне"
   ]
  },
  {
   "cell_type": "markdown",
   "metadata": {
    "id": "BR3xfxWzhSJG"
   },
   "source": [
    "## Подготовка к работе"
   ]
  },
  {
   "cell_type": "markdown",
   "metadata": {
    "id": "ocRly8rcgtCV"
   },
   "source": [
    "#### Если работаете не в Google Collab, то нужно подгрузить следующие библиотеки:\n"
   ]
  },
  {
   "cell_type": "code",
   "execution_count": 1,
   "metadata": {
    "id": "qxIALEmO7FeZ"
   },
   "outputs": [],
   "source": [
    "# pip install openpyxl\n",
    "# pip install seaborn\n",
    "# pip install xlrd"
   ]
  },
  {
   "cell_type": "markdown",
   "metadata": {
    "id": "2Yy8Xfnu129N"
   },
   "source": [
    "#### Импортирование библиотек"
   ]
  },
  {
   "cell_type": "code",
   "execution_count": 2,
   "metadata": {
    "id": "Cabqa-5B7Feg"
   },
   "outputs": [],
   "source": [
    "import pandas as pd #специальные структуры данных и операции для манипулирования числовыми таблицами\n",
    "import numpy as np #добавляет поддержку больших многомерных массивов и матриц\n",
    "import matplotlib.pyplot as plt #библиотека для построения научных графиков\n",
    "import scipy.stats as sts #все функции статистики\n",
    "import seaborn as sns #библиотека для создания статистических графиков на Python\n",
    "import numpy.linalg as nl #реализует операции линейной алгебры\n",
    "%matplotlib inline \n",
    "# %matplotlib inline нужен для визуализации статических графиков matplotlib в Jupyter Notebook"
   ]
  },
  {
   "cell_type": "markdown",
   "metadata": {
    "id": "P0dnslF1h0Gw"
   },
   "source": [
    "## Перечисление признаков\n",
    "### Названия переменных должны быть такими же, как в Excel !!!"
   ]
  },
  {
   "cell_type": "code",
   "execution_count": 3,
   "metadata": {
    "id": "8avOCmFf7Feh"
   },
   "outputs": [],
   "source": [
    "features = ['X1', 'X2', 'X3', 'X4', 'X5', 'X6', 'X7', 'X8', 'X9'] #должны быть с таким же названием как в экселе\n",
    "f_len = len(features) #измеряется длина списка - количество признаков"
   ]
  },
  {
   "cell_type": "markdown",
   "metadata": {
    "id": "tFOwg867imsL"
   },
   "source": [
    "## Загрузка Excel-файла\n",
    "### Подставь свои значения в метод read_excel - имя эксель-файла и название нужного листа !!!"
   ]
  },
  {
   "cell_type": "code",
   "execution_count": 4,
   "metadata": {
    "colab": {
     "base_uri": "https://localhost:8080/",
     "height": 237
    },
    "id": "5_GfgHyC7Feh",
    "outputId": "5471101d-97b4-4d9b-b1bf-73a8ec9124dc"
   },
   "outputs": [
    {
     "data": {
      "text/html": [
       "<div>\n",
       "<style scoped>\n",
       "    .dataframe tbody tr th:only-of-type {\n",
       "        vertical-align: middle;\n",
       "    }\n",
       "\n",
       "    .dataframe tbody tr th {\n",
       "        vertical-align: top;\n",
       "    }\n",
       "\n",
       "    .dataframe thead th {\n",
       "        text-align: right;\n",
       "    }\n",
       "</style>\n",
       "<table border=\"1\" class=\"dataframe\">\n",
       "  <thead>\n",
       "    <tr style=\"text-align: right;\">\n",
       "      <th></th>\n",
       "      <th>X1</th>\n",
       "      <th>X2</th>\n",
       "      <th>X3</th>\n",
       "      <th>X4</th>\n",
       "      <th>X5</th>\n",
       "      <th>X6</th>\n",
       "      <th>X7</th>\n",
       "      <th>X8</th>\n",
       "      <th>X9</th>\n",
       "    </tr>\n",
       "    <tr>\n",
       "      <th>Регион</th>\n",
       "      <th></th>\n",
       "      <th></th>\n",
       "      <th></th>\n",
       "      <th></th>\n",
       "      <th></th>\n",
       "      <th></th>\n",
       "      <th></th>\n",
       "      <th></th>\n",
       "      <th></th>\n",
       "    </tr>\n",
       "  </thead>\n",
       "  <tbody>\n",
       "    <tr>\n",
       "      <th>Алтайский край</th>\n",
       "      <td>9.212794</td>\n",
       "      <td>4.393977</td>\n",
       "      <td>23864</td>\n",
       "      <td>4.888962</td>\n",
       "      <td>4.896903</td>\n",
       "      <td>3.735763</td>\n",
       "      <td>16.4</td>\n",
       "      <td>7.702695</td>\n",
       "      <td>1.184</td>\n",
       "    </tr>\n",
       "    <tr>\n",
       "      <th>Амурская область</th>\n",
       "      <td>9.620554</td>\n",
       "      <td>5.608319</td>\n",
       "      <td>35499</td>\n",
       "      <td>5.208003</td>\n",
       "      <td>6.866272</td>\n",
       "      <td>3.885274</td>\n",
       "      <td>16.1</td>\n",
       "      <td>17.567293</td>\n",
       "      <td>6.098</td>\n",
       "    </tr>\n",
       "    <tr>\n",
       "      <th>Архангельская область</th>\n",
       "      <td>8.156995</td>\n",
       "      <td>5.349659</td>\n",
       "      <td>36779</td>\n",
       "      <td>4.754055</td>\n",
       "      <td>2.245869</td>\n",
       "      <td>2.968140</td>\n",
       "      <td>14.6</td>\n",
       "      <td>17.113520</td>\n",
       "      <td>12.356</td>\n",
       "    </tr>\n",
       "    <tr>\n",
       "      <th>Астраханская область</th>\n",
       "      <td>8.742148</td>\n",
       "      <td>6.267783</td>\n",
       "      <td>25199</td>\n",
       "      <td>5.094280</td>\n",
       "      <td>1.617232</td>\n",
       "      <td>2.350040</td>\n",
       "      <td>13.6</td>\n",
       "      <td>11.270083</td>\n",
       "      <td>3.494</td>\n",
       "    </tr>\n",
       "    <tr>\n",
       "      <th>Белгородская область</th>\n",
       "      <td>6.998984</td>\n",
       "      <td>4.071958</td>\n",
       "      <td>32841</td>\n",
       "      <td>5.422743</td>\n",
       "      <td>2.221900</td>\n",
       "      <td>1.339021</td>\n",
       "      <td>15.5</td>\n",
       "      <td>10.946124</td>\n",
       "      <td>7.374</td>\n",
       "    </tr>\n",
       "  </tbody>\n",
       "</table>\n",
       "</div>"
      ],
      "text/plain": [
       "                             X1        X2     X3        X4        X5  \\\n",
       "Регион                                                                 \n",
       "Алтайский край         9.212794  4.393977  23864  4.888962  4.896903   \n",
       "Амурская область       9.620554  5.608319  35499  5.208003  6.866272   \n",
       "Архангельская область  8.156995  5.349659  36779  4.754055  2.245869   \n",
       "Астраханская область   8.742148  6.267783  25199  5.094280  1.617232   \n",
       "Белгородская область   6.998984  4.071958  32841  5.422743  2.221900   \n",
       "\n",
       "                             X6    X7         X8      X9  \n",
       "Регион                                                    \n",
       "Алтайский край         3.735763  16.4   7.702695   1.184  \n",
       "Амурская область       3.885274  16.1  17.567293   6.098  \n",
       "Архангельская область  2.968140  14.6  17.113520  12.356  \n",
       "Астраханская область   2.350040  13.6  11.270083   3.494  \n",
       "Белгородская область   1.339021  15.5  10.946124   7.374  "
      ]
     },
     "execution_count": 4,
     "metadata": {},
     "output_type": "execute_result"
    }
   ],
   "source": [
    "# подставь свои значения! - имя эксель-файла и названия листа\n",
    "data = pd.read_excel(\"ЛР 3.xlsx\", engine='openpyxl', sheet_name=\"Данные\", index_col=0).loc[:, features] \n",
    "data.columns=features #задаются названия колонок \n",
    "X = data.values # таблица всех значений\n",
    "data.head() #просмотр первых n строк фрейма данных pandas"
   ]
  },
  {
   "cell_type": "markdown",
   "metadata": {
    "id": "W0vdHhrasCaH"
   },
   "source": [
    "### Нормировка"
   ]
  },
  {
   "cell_type": "code",
   "execution_count": 5,
   "metadata": {
    "colab": {
     "base_uri": "https://localhost:8080/",
     "height": 455
    },
    "id": "R9dHco4afkkn",
    "outputId": "d61bd9e3-5282-4e9b-f427-068d8b3dc79a"
   },
   "outputs": [
    {
     "data": {
      "text/html": [
       "<div>\n",
       "<style scoped>\n",
       "    .dataframe tbody tr th:only-of-type {\n",
       "        vertical-align: middle;\n",
       "    }\n",
       "\n",
       "    .dataframe tbody tr th {\n",
       "        vertical-align: top;\n",
       "    }\n",
       "\n",
       "    .dataframe thead th {\n",
       "        text-align: right;\n",
       "    }\n",
       "</style>\n",
       "<table border=\"1\" class=\"dataframe\">\n",
       "  <thead>\n",
       "    <tr style=\"text-align: right;\">\n",
       "      <th></th>\n",
       "      <th>X1</th>\n",
       "      <th>X2</th>\n",
       "      <th>X3</th>\n",
       "      <th>X4</th>\n",
       "      <th>X5</th>\n",
       "      <th>X6</th>\n",
       "      <th>X7</th>\n",
       "      <th>X8</th>\n",
       "      <th>X9</th>\n",
       "    </tr>\n",
       "    <tr>\n",
       "      <th>Регион</th>\n",
       "      <th></th>\n",
       "      <th></th>\n",
       "      <th></th>\n",
       "      <th></th>\n",
       "      <th></th>\n",
       "      <th></th>\n",
       "      <th></th>\n",
       "      <th></th>\n",
       "      <th></th>\n",
       "    </tr>\n",
       "  </thead>\n",
       "  <tbody>\n",
       "    <tr>\n",
       "      <th>Алтайский край</th>\n",
       "      <td>0.550909</td>\n",
       "      <td>-0.456354</td>\n",
       "      <td>-0.625030</td>\n",
       "      <td>-0.354471</td>\n",
       "      <td>1.077778</td>\n",
       "      <td>1.051521</td>\n",
       "      <td>0.610943</td>\n",
       "      <td>-0.294640</td>\n",
       "      <td>-0.816480</td>\n",
       "    </tr>\n",
       "    <tr>\n",
       "      <th>Амурская область</th>\n",
       "      <td>0.864949</td>\n",
       "      <td>0.767179</td>\n",
       "      <td>0.199023</td>\n",
       "      <td>0.241207</td>\n",
       "      <td>2.142743</td>\n",
       "      <td>1.169850</td>\n",
       "      <td>0.516397</td>\n",
       "      <td>0.143576</td>\n",
       "      <td>0.086356</td>\n",
       "    </tr>\n",
       "    <tr>\n",
       "      <th>Архангельская область</th>\n",
       "      <td>-0.262225</td>\n",
       "      <td>0.506562</td>\n",
       "      <td>0.289679</td>\n",
       "      <td>-0.606353</td>\n",
       "      <td>-0.355807</td>\n",
       "      <td>0.443996</td>\n",
       "      <td>0.043666</td>\n",
       "      <td>0.123418</td>\n",
       "      <td>1.236121</td>\n",
       "    </tr>\n",
       "    <tr>\n",
       "      <th>Астраханская область</th>\n",
       "      <td>0.188435</td>\n",
       "      <td>1.431635</td>\n",
       "      <td>-0.530478</td>\n",
       "      <td>0.028876</td>\n",
       "      <td>-0.695752</td>\n",
       "      <td>-0.045192</td>\n",
       "      <td>-0.271488</td>\n",
       "      <td>-0.136165</td>\n",
       "      <td>-0.392070</td>\n",
       "    </tr>\n",
       "    <tr>\n",
       "      <th>Белгородская область</th>\n",
       "      <td>-1.154079</td>\n",
       "      <td>-0.780811</td>\n",
       "      <td>0.010769</td>\n",
       "      <td>0.642145</td>\n",
       "      <td>-0.368769</td>\n",
       "      <td>-0.845349</td>\n",
       "      <td>0.327305</td>\n",
       "      <td>-0.150557</td>\n",
       "      <td>0.320792</td>\n",
       "    </tr>\n",
       "    <tr>\n",
       "      <th>...</th>\n",
       "      <td>...</td>\n",
       "      <td>...</td>\n",
       "      <td>...</td>\n",
       "      <td>...</td>\n",
       "      <td>...</td>\n",
       "      <td>...</td>\n",
       "      <td>...</td>\n",
       "      <td>...</td>\n",
       "      <td>...</td>\n",
       "    </tr>\n",
       "    <tr>\n",
       "      <th>Чеченская Республика</th>\n",
       "      <td>-1.757579</td>\n",
       "      <td>-1.683297</td>\n",
       "      <td>-0.573186</td>\n",
       "      <td>-1.426533</td>\n",
       "      <td>-1.534643</td>\n",
       "      <td>-1.826316</td>\n",
       "      <td>-2.603629</td>\n",
       "      <td>-0.588789</td>\n",
       "      <td>-0.895482</td>\n",
       "    </tr>\n",
       "    <tr>\n",
       "      <th>Чувашская Республика</th>\n",
       "      <td>0.092687</td>\n",
       "      <td>0.255755</td>\n",
       "      <td>-0.816896</td>\n",
       "      <td>0.019112</td>\n",
       "      <td>-0.306261</td>\n",
       "      <td>-0.503082</td>\n",
       "      <td>0.295789</td>\n",
       "      <td>-0.544475</td>\n",
       "      <td>-0.559078</td>\n",
       "    </tr>\n",
       "    <tr>\n",
       "      <th>Чукотский автономный округ</th>\n",
       "      <td>3.225378</td>\n",
       "      <td>2.428669</td>\n",
       "      <td>4.026564</td>\n",
       "      <td>2.099932</td>\n",
       "      <td>2.730534</td>\n",
       "      <td>1.966008</td>\n",
       "      <td>-1.279981</td>\n",
       "      <td>0.891237</td>\n",
       "      <td>3.152764</td>\n",
       "    </tr>\n",
       "    <tr>\n",
       "      <th>Ямало-Ненецкий автономный \\nокруг</th>\n",
       "      <td>-0.762519</td>\n",
       "      <td>1.196952</td>\n",
       "      <td>4.053974</td>\n",
       "      <td>1.278391</td>\n",
       "      <td>0.777505</td>\n",
       "      <td>0.143690</td>\n",
       "      <td>-2.666659</td>\n",
       "      <td>6.418154</td>\n",
       "      <td>4.036492</td>\n",
       "    </tr>\n",
       "    <tr>\n",
       "      <th>Ярославская область</th>\n",
       "      <td>0.593965</td>\n",
       "      <td>0.748157</td>\n",
       "      <td>-0.224867</td>\n",
       "      <td>0.563234</td>\n",
       "      <td>1.869960</td>\n",
       "      <td>-0.470128</td>\n",
       "      <td>0.863067</td>\n",
       "      <td>-0.332103</td>\n",
       "      <td>0.058246</td>\n",
       "    </tr>\n",
       "  </tbody>\n",
       "</table>\n",
       "<p>83 rows × 9 columns</p>\n",
       "</div>"
      ],
      "text/plain": [
       "                                         X1        X2        X3        X4  \\\n",
       "Регион                                                                      \n",
       "Алтайский край                     0.550909 -0.456354 -0.625030 -0.354471   \n",
       "Амурская область                   0.864949  0.767179  0.199023  0.241207   \n",
       "Архангельская область             -0.262225  0.506562  0.289679 -0.606353   \n",
       "Астраханская область               0.188435  1.431635 -0.530478  0.028876   \n",
       "Белгородская область              -1.154079 -0.780811  0.010769  0.642145   \n",
       "...                                     ...       ...       ...       ...   \n",
       "Чеченская Республика              -1.757579 -1.683297 -0.573186 -1.426533   \n",
       "Чувашская Республика               0.092687  0.255755 -0.816896  0.019112   \n",
       "Чукотский автономный округ         3.225378  2.428669  4.026564  2.099932   \n",
       "Ямало-Ненецкий автономный \\nокруг -0.762519  1.196952  4.053974  1.278391   \n",
       "Ярославская область                0.593965  0.748157 -0.224867  0.563234   \n",
       "\n",
       "                                         X5        X6        X7        X8  \\\n",
       "Регион                                                                      \n",
       "Алтайский край                     1.077778  1.051521  0.610943 -0.294640   \n",
       "Амурская область                   2.142743  1.169850  0.516397  0.143576   \n",
       "Архангельская область             -0.355807  0.443996  0.043666  0.123418   \n",
       "Астраханская область              -0.695752 -0.045192 -0.271488 -0.136165   \n",
       "Белгородская область              -0.368769 -0.845349  0.327305 -0.150557   \n",
       "...                                     ...       ...       ...       ...   \n",
       "Чеченская Республика              -1.534643 -1.826316 -2.603629 -0.588789   \n",
       "Чувашская Республика              -0.306261 -0.503082  0.295789 -0.544475   \n",
       "Чукотский автономный округ         2.730534  1.966008 -1.279981  0.891237   \n",
       "Ямало-Ненецкий автономный \\nокруг  0.777505  0.143690 -2.666659  6.418154   \n",
       "Ярославская область                1.869960 -0.470128  0.863067 -0.332103   \n",
       "\n",
       "                                         X9  \n",
       "Регион                                       \n",
       "Алтайский край                    -0.816480  \n",
       "Амурская область                   0.086356  \n",
       "Архангельская область              1.236121  \n",
       "Астраханская область              -0.392070  \n",
       "Белгородская область               0.320792  \n",
       "...                                     ...  \n",
       "Чеченская Республика              -0.895482  \n",
       "Чувашская Республика              -0.559078  \n",
       "Чукотский автономный округ         3.152764  \n",
       "Ямало-Ненецкий автономный \\nокруг  4.036492  \n",
       "Ярославская область                0.058246  \n",
       "\n",
       "[83 rows x 9 columns]"
      ]
     },
     "execution_count": 5,
     "metadata": {},
     "output_type": "execute_result"
    }
   ],
   "source": [
    "data = (data - data.mean(axis=0))/data.std()\n",
    "data"
   ]
  },
  {
   "cell_type": "markdown",
   "metadata": {
    "id": "nPULRQyjjAlO"
   },
   "source": [
    "## Нахождение корреляционной матрицы"
   ]
  },
  {
   "cell_type": "code",
   "execution_count": 8,
   "metadata": {
    "colab": {
     "base_uri": "https://localhost:8080/",
     "height": 381
    },
    "id": "BvqwtAuO7Fei",
    "outputId": "10851e66-9f95-4a8d-cfce-26e9f759c088"
   },
   "outputs": [
    {
     "name": "stdout",
     "output_type": "stream",
     "text": [
      "Корреляционная матрица:\n"
     ]
    },
    {
     "data": {
      "text/html": [
       "<div>\n",
       "<style scoped>\n",
       "    .dataframe tbody tr th:only-of-type {\n",
       "        vertical-align: middle;\n",
       "    }\n",
       "\n",
       "    .dataframe tbody tr th {\n",
       "        vertical-align: top;\n",
       "    }\n",
       "\n",
       "    .dataframe thead th {\n",
       "        text-align: right;\n",
       "    }\n",
       "</style>\n",
       "<table border=\"1\" class=\"dataframe\">\n",
       "  <thead>\n",
       "    <tr style=\"text-align: right;\">\n",
       "      <th></th>\n",
       "      <th>X1</th>\n",
       "      <th>X2</th>\n",
       "      <th>X3</th>\n",
       "      <th>X4</th>\n",
       "      <th>X5</th>\n",
       "      <th>X6</th>\n",
       "      <th>X7</th>\n",
       "      <th>X8</th>\n",
       "      <th>X9</th>\n",
       "    </tr>\n",
       "  </thead>\n",
       "  <tbody>\n",
       "    <tr>\n",
       "      <th>X1</th>\n",
       "      <td>1.000000</td>\n",
       "      <td>0.337020</td>\n",
       "      <td>0.255880</td>\n",
       "      <td>0.296896</td>\n",
       "      <td>0.577569</td>\n",
       "      <td>0.486704</td>\n",
       "      <td>0.219689</td>\n",
       "      <td>0.030272</td>\n",
       "      <td>0.273646</td>\n",
       "    </tr>\n",
       "    <tr>\n",
       "      <th>X2</th>\n",
       "      <td>0.337020</td>\n",
       "      <td>1.000000</td>\n",
       "      <td>0.502469</td>\n",
       "      <td>0.527726</td>\n",
       "      <td>0.221108</td>\n",
       "      <td>0.072294</td>\n",
       "      <td>-0.161744</td>\n",
       "      <td>0.112938</td>\n",
       "      <td>0.306288</td>\n",
       "    </tr>\n",
       "    <tr>\n",
       "      <th>X3</th>\n",
       "      <td>0.255880</td>\n",
       "      <td>0.502469</td>\n",
       "      <td>1.000000</td>\n",
       "      <td>0.391519</td>\n",
       "      <td>0.138415</td>\n",
       "      <td>-0.028247</td>\n",
       "      <td>-0.332628</td>\n",
       "      <td>0.486666</td>\n",
       "      <td>0.682649</td>\n",
       "    </tr>\n",
       "    <tr>\n",
       "      <th>X4</th>\n",
       "      <td>0.296896</td>\n",
       "      <td>0.527726</td>\n",
       "      <td>0.391519</td>\n",
       "      <td>1.000000</td>\n",
       "      <td>0.124912</td>\n",
       "      <td>-0.008186</td>\n",
       "      <td>0.212826</td>\n",
       "      <td>0.042594</td>\n",
       "      <td>0.253661</td>\n",
       "    </tr>\n",
       "    <tr>\n",
       "      <th>X5</th>\n",
       "      <td>0.577569</td>\n",
       "      <td>0.221108</td>\n",
       "      <td>0.138415</td>\n",
       "      <td>0.124912</td>\n",
       "      <td>1.000000</td>\n",
       "      <td>0.767666</td>\n",
       "      <td>0.019947</td>\n",
       "      <td>0.249774</td>\n",
       "      <td>0.408598</td>\n",
       "    </tr>\n",
       "    <tr>\n",
       "      <th>X6</th>\n",
       "      <td>0.486704</td>\n",
       "      <td>0.072294</td>\n",
       "      <td>-0.028247</td>\n",
       "      <td>-0.008186</td>\n",
       "      <td>0.767666</td>\n",
       "      <td>1.000000</td>\n",
       "      <td>0.067901</td>\n",
       "      <td>0.205931</td>\n",
       "      <td>0.297715</td>\n",
       "    </tr>\n",
       "    <tr>\n",
       "      <th>X7</th>\n",
       "      <td>0.219689</td>\n",
       "      <td>-0.161744</td>\n",
       "      <td>-0.332628</td>\n",
       "      <td>0.212826</td>\n",
       "      <td>0.019947</td>\n",
       "      <td>0.067901</td>\n",
       "      <td>1.000000</td>\n",
       "      <td>-0.307145</td>\n",
       "      <td>-0.324024</td>\n",
       "    </tr>\n",
       "    <tr>\n",
       "      <th>X8</th>\n",
       "      <td>0.030272</td>\n",
       "      <td>0.112938</td>\n",
       "      <td>0.486666</td>\n",
       "      <td>0.042594</td>\n",
       "      <td>0.249774</td>\n",
       "      <td>0.205931</td>\n",
       "      <td>-0.307145</td>\n",
       "      <td>1.000000</td>\n",
       "      <td>0.769659</td>\n",
       "    </tr>\n",
       "    <tr>\n",
       "      <th>X9</th>\n",
       "      <td>0.273646</td>\n",
       "      <td>0.306288</td>\n",
       "      <td>0.682649</td>\n",
       "      <td>0.253661</td>\n",
       "      <td>0.408598</td>\n",
       "      <td>0.297715</td>\n",
       "      <td>-0.324024</td>\n",
       "      <td>0.769659</td>\n",
       "      <td>1.000000</td>\n",
       "    </tr>\n",
       "  </tbody>\n",
       "</table>\n",
       "</div>"
      ],
      "text/plain": [
       "          X1        X2        X3        X4        X5        X6        X7  \\\n",
       "X1  1.000000  0.337020  0.255880  0.296896  0.577569  0.486704  0.219689   \n",
       "X2  0.337020  1.000000  0.502469  0.527726  0.221108  0.072294 -0.161744   \n",
       "X3  0.255880  0.502469  1.000000  0.391519  0.138415 -0.028247 -0.332628   \n",
       "X4  0.296896  0.527726  0.391519  1.000000  0.124912 -0.008186  0.212826   \n",
       "X5  0.577569  0.221108  0.138415  0.124912  1.000000  0.767666  0.019947   \n",
       "X6  0.486704  0.072294 -0.028247 -0.008186  0.767666  1.000000  0.067901   \n",
       "X7  0.219689 -0.161744 -0.332628  0.212826  0.019947  0.067901  1.000000   \n",
       "X8  0.030272  0.112938  0.486666  0.042594  0.249774  0.205931 -0.307145   \n",
       "X9  0.273646  0.306288  0.682649  0.253661  0.408598  0.297715 -0.324024   \n",
       "\n",
       "          X8        X9  \n",
       "X1  0.030272  0.273646  \n",
       "X2  0.112938  0.306288  \n",
       "X3  0.486666  0.682649  \n",
       "X4  0.042594  0.253661  \n",
       "X5  0.249774  0.408598  \n",
       "X6  0.205931  0.297715  \n",
       "X7 -0.307145 -0.324024  \n",
       "X8  1.000000  0.769659  \n",
       "X9  0.769659  1.000000  "
      ]
     },
     "execution_count": 8,
     "metadata": {},
     "output_type": "execute_result"
    }
   ],
   "source": [
    "print(\"Корреляционная матрица:\")\n",
    "correlation = data.corr() #корреляционная матрица\n",
    "correlation"
   ]
  },
  {
   "cell_type": "markdown",
   "metadata": {
    "id": "7wl_bIgHkW6b"
   },
   "source": [
    "#### Корреляционная матрица в виде тепловой карты"
   ]
  },
  {
   "cell_type": "code",
   "execution_count": 9,
   "metadata": {
    "colab": {
     "base_uri": "https://localhost:8080/",
     "height": 524
    },
    "id": "NxosQWYb7Fei",
    "outputId": "d4a89bd1-7a70-4cd2-acdf-31268341c842"
   },
   "outputs": [
    {
     "data": {
      "image/png": "[encoded data removed]",
      "text/plain": [
       "<Figure size 900x900 with 2 Axes>"
      ]
     },
     "metadata": {},
     "output_type": "display_data"
    }
   ],
   "source": [
    "plt.figure(figsize=(9,9)) #создали область Figure\n",
    "sns.heatmap(correlation, vmax=1, square=True, annot=True,cmap='Blues')\n",
    "#heatmap - тепловая карта; vmax - значения для привязки цветовой карты\n",
    "plt.title('Correlation between different features',fontsize=16) #заголовок тепловой карты\n",
    "plt.show()"
   ]
  },
  {
   "cell_type": "markdown",
   "metadata": {
    "id": "j9kiM1I7ldK9"
   },
   "source": [
    "## Гипотеза о незначимости корреляционной матрицы"
   ]
  },
  {
   "cell_type": "markdown",
   "metadata": {
    "id": "ntfT3eNjl86M"
   },
   "source": [
    "### Расчет оценок собственных чисел корреляционной матрицы"
   ]
  },
  {
   "cell_type": "code",
   "execution_count": 13,
   "metadata": {
    "colab": {
     "base_uri": "https://localhost:8080/"
    },
    "id": "Jqy13PuE7Fej",
    "outputId": "a0a31648-2b60-49df-975b-6e04eb381022"
   },
   "outputs": [
    {
     "name": "stdout",
     "output_type": "stream",
     "text": [
      "Оценки собственных чисел корреляционной матрицы:\n"
     ]
    },
    {
     "data": {
      "text/plain": [
       "[3.2938899639480437,\n",
       " 1.9295287832399866,\n",
       " 1.545141468397989,\n",
       " 0.7968544752764853,\n",
       " 0.4950025198508741,\n",
       " 0.33645128431131976,\n",
       " 0.24573931414052996,\n",
       " 0.2096454551650036,\n",
       " 0.14774673566976843]"
      ]
     },
     "execution_count": 13,
     "metadata": {},
     "output_type": "execute_result"
    }
   ],
   "source": [
    "#проверка гипотезы о незначимости корреляционной матрицы\n",
    "eigenvalues, eigenvector = np.linalg.eig(correlation) #вычисляет собственные числа (значения) и собственные векторы корреляционной матрицы\n",
    "couple_lst = []\n",
    "for i in range(len(eigenvalues)):\n",
    "    couple_lst.append((eigenvalues[i], eigenvector[:, i])) #добавляет в конец списка значения по одиночке\n",
    "\n",
    "couple_lst = sorted(couple_lst, key=lambda x: x[0], reverse=True)\n",
    "#key (необязательный параметр): если указать ключ, то сортировка будет выполнена по функции этого ключа\n",
    "#reverse: по умолчанию сортировка выполняется по возрастанию. Указано reverse=True, т.к. сортируем по убыванию\n",
    "eigenvalues_sorted = sorted(eigenvalues, reverse=True)\n",
    "print(\"Оценки собственных чисел корреляционной матрицы:\")\n",
    "eigenvalues_sorted\n",
    "# couple_lst"
   ]
  },
  {
   "cell_type": "markdown",
   "metadata": {
    "id": "70rlerJ6nY7v"
   },
   "source": [
    "### Проверка гипотезы"
   ]
  },
  {
   "cell_type": "code",
   "execution_count": 14,
   "metadata": {
    "colab": {
     "base_uri": "https://localhost:8080/"
    },
    "id": "tOl2LEAf7Fel",
    "outputId": "ff8d6614-07e0-4195-db3c-9b067de410da"
   },
   "outputs": [
    {
     "name": "stdout",
     "output_type": "stream",
     "text": [
      "Статистика критерия:  365.2112100565154\n",
      "Достигаемый уровень значимости (p-value):  4.287835179482197e-56\n",
      "Гипотеза отклоняется, матрица парных коэффициентов корреляции значима.\n"
     ]
    }
   ],
   "source": [
    "import math #math предоставляет доступ к некоторым популярным математическим функциям и константам\n",
    "\n",
    "def chi_2(n, k, R):\n",
    "    return -(n-1/6*(2*k+5))*math.log(np.linalg.det(R)) \n",
    "#формула статистики Хи^2; math.log (x) используется для вычисления натурального логарифмического значения\n",
    "#np.linalg.det(R) вычисление определителя заданного квадратного массива k – число факторов; n – объем выборки\n",
    "chi2_z = chi_2(data.shape[0], data.shape[1], correlation) # .shape - это кортеж размеров массива\n",
    "p_value =sts.chi2.sf(chi2_z, data.shape[1]* (data.shape[1]-1) / 2) #значение p-value\n",
    "print(\"Статистика критерия: \", chi2_z)\n",
    "print(\"Достигаемый уровень значимости (p-value): \", p_value)\n",
    "if p_value > 0.05: \n",
    "    print(\"Гипотеза принимается, матрица парных коэффициентов корреляции незначима.\")\n",
    "else:\n",
    "    print('Гипотеза отклоняется, матрица парных коэффициентов корреляции значима.')"
   ]
  },
  {
   "cell_type": "markdown",
   "metadata": {
    "id": "jGQ1dncPnl0d"
   },
   "source": [
    "## Построение доверительных интервалов"
   ]
  },
  {
   "cell_type": "code",
   "execution_count": 15,
   "metadata": {
    "colab": {
     "base_uri": "https://localhost:8080/",
     "height": 381
    },
    "id": "8KTjckB_7Fel",
    "outputId": "11cd24d1-09d1-45db-ce19-985575d67e4a"
   },
   "outputs": [
    {
     "name": "stdout",
     "output_type": "stream",
     "text": [
      "Доверительные интервалы для собственных значений корреляционной матрицы:\n"
     ]
    },
    {
     "data": {
      "text/html": [
       "<div>\n",
       "<style scoped>\n",
       "    .dataframe tbody tr th:only-of-type {\n",
       "        vertical-align: middle;\n",
       "    }\n",
       "\n",
       "    .dataframe tbody tr th {\n",
       "        vertical-align: top;\n",
       "    }\n",
       "\n",
       "    .dataframe thead th {\n",
       "        text-align: right;\n",
       "    }\n",
       "</style>\n",
       "<table border=\"1\" class=\"dataframe\">\n",
       "  <thead>\n",
       "    <tr style=\"text-align: right;\">\n",
       "      <th></th>\n",
       "      <th>left_border</th>\n",
       "      <th>eig</th>\n",
       "      <th>right_border</th>\n",
       "    </tr>\n",
       "  </thead>\n",
       "  <tbody>\n",
       "    <tr>\n",
       "      <th>0</th>\n",
       "      <td>2.521938</td>\n",
       "      <td>3.293890</td>\n",
       "      <td>4.746889</td>\n",
       "    </tr>\n",
       "    <tr>\n",
       "      <th>1</th>\n",
       "      <td>1.477327</td>\n",
       "      <td>1.929529</td>\n",
       "      <td>2.780681</td>\n",
       "    </tr>\n",
       "    <tr>\n",
       "      <th>2</th>\n",
       "      <td>1.183024</td>\n",
       "      <td>1.545141</td>\n",
       "      <td>2.226733</td>\n",
       "    </tr>\n",
       "    <tr>\n",
       "      <th>3</th>\n",
       "      <td>0.610105</td>\n",
       "      <td>0.796854</td>\n",
       "      <td>1.148362</td>\n",
       "    </tr>\n",
       "    <tr>\n",
       "      <th>4</th>\n",
       "      <td>0.378994</td>\n",
       "      <td>0.495003</td>\n",
       "      <td>0.713358</td>\n",
       "    </tr>\n",
       "    <tr>\n",
       "      <th>5</th>\n",
       "      <td>0.257601</td>\n",
       "      <td>0.336451</td>\n",
       "      <td>0.484866</td>\n",
       "    </tr>\n",
       "    <tr>\n",
       "      <th>6</th>\n",
       "      <td>0.188148</td>\n",
       "      <td>0.245739</td>\n",
       "      <td>0.354140</td>\n",
       "    </tr>\n",
       "    <tr>\n",
       "      <th>7</th>\n",
       "      <td>0.160513</td>\n",
       "      <td>0.209645</td>\n",
       "      <td>0.302124</td>\n",
       "    </tr>\n",
       "    <tr>\n",
       "      <th>8</th>\n",
       "      <td>0.113121</td>\n",
       "      <td>0.147747</td>\n",
       "      <td>0.212921</td>\n",
       "    </tr>\n",
       "  </tbody>\n",
       "</table>\n",
       "</div>"
      ],
      "text/plain": [
       "   left_border       eig  right_border\n",
       "0     2.521938  3.293890      4.746889\n",
       "1     1.477327  1.929529      2.780681\n",
       "2     1.183024  1.545141      2.226733\n",
       "3     0.610105  0.796854      1.148362\n",
       "4     0.378994  0.495003      0.713358\n",
       "5     0.257601  0.336451      0.484866\n",
       "6     0.188148  0.245739      0.354140\n",
       "7     0.160513  0.209645      0.302124\n",
       "8     0.113121  0.147747      0.212921"
      ]
     },
     "execution_count": 15,
     "metadata": {},
     "output_type": "execute_result"
    }
   ],
   "source": [
    "#доверительные интервалы\n",
    "def eigenval_left(l, n):\n",
    "    return l / (1 + sts.norm.ppf(0.975) * math.sqrt(2/(n-1))) #sts.norm.ppf квантиль\n",
    "\n",
    "def eigenval_right(l, n):\n",
    "    return  l / (1 - sts.norm.ppf(0.975) * math.sqrt(2/(n-1)))\n",
    "\n",
    "conf_interval = np.empty((f_len, 3))\n",
    "#f_len - кол-во признаков; возвращает массив заданной размерности, но без инициализации его значений\n",
    "for i in range(conf_interval.shape[0]):\n",
    "    conf_interval[i, 0] = eigenval_left(eigenvalues_sorted[i], data.shape[0])\n",
    "    conf_interval[i, 1] = eigenvalues_sorted[i]\n",
    "    conf_interval[i, 2] = eigenval_right(eigenvalues_sorted[i], data.shape[0])\n",
    "    #заполнение левой и правой границ собственных значений \n",
    "\n",
    "print('Доверительные интервалы для собственных значений корреляционной матрицы:')\n",
    "conf_interval_df = pd.DataFrame(conf_interval, columns=[\"left_border\", \"eig\", \"right_border\"])\n",
    "conf_interval_df"
   ]
  },
  {
   "cell_type": "markdown",
   "metadata": {
    "id": "rAUO8ELg5rAo"
   },
   "source": [
    "## Проверка гипотезы о кратности собственных чисел\n",
    "### Если вам нужно проверять, то введите нужное r - число кратных корней !!!"
   ]
  },
  {
   "cell_type": "code",
   "execution_count": 16,
   "metadata": {
    "colab": {
     "base_uri": "https://localhost:8080/"
    },
    "id": "3Zro09ue7Fem",
    "outputId": "23ba8498-fea0-4eb2-8c42-3b19f6958390"
   },
   "outputs": [
    {
     "name": "stdout",
     "output_type": "stream",
     "text": [
      "Достигаемый уровень значимости:  1.5262237011102362e-67\n",
      "Гипотеза о кратности 2 собственных чисел отвергается\n"
     ]
    }
   ],
   "source": [
    "#Проверка гипотезы о кратности собственных чисел\n",
    "\n",
    "r = 2 #число кратных корней\n",
    "N = X.shape[0] #число наблюдений\n",
    "z = (N - 1) * sum(np.log(eigenvalues_sorted[:2])) + (N - 1) * r * np.log(1 / r * sum(eigenvalues_sorted[:2]))\n",
    "n = r * (r + 1) / 2 - 1 #число степеней свободы\n",
    "p_val = 2 * min(sts.chi2.cdf(z, n), sts.chi2.sf(z, n))\n",
    "print(\"Достигаемый уровень значимости: \",p_val)\n",
    "if p_val > 0.05:\n",
    "    print(f\"Гипотеза о кратности {r} собственных чисел принимается\")\n",
    "else:\n",
    "    print(f\"Гипотеза о кратности {r} собственных чисел отвергается\")"
   ]
  },
  {
   "cell_type": "markdown",
   "metadata": {
    "id": "iczJ_ijOu7KM"
   },
   "source": [
    "## Оценка уровня информативности"
   ]
  },
  {
   "cell_type": "code",
   "execution_count": 17,
   "metadata": {
    "colab": {
     "base_uri": "https://localhost:8080/"
    },
    "id": "O-nvaM2Yu1dx",
    "outputId": "46139371-fc2d-4f92-9ce4-cdd02c032ff2"
   },
   "outputs": [
    {
     "name": "stdout",
     "output_type": "stream",
     "text": [
      "Оценка информативности для 1 главных компонент:\n",
      "I(x) = 36.599%\n",
      "Оценка информативности для 2 главных компонент:\n",
      "I(x) = 58.038%\n",
      "Оценка информативности для 3 главных компонент:\n",
      "I(x) = 75.206%\n",
      "Оценка информативности для 4 главных компонент:\n",
      "I(x) = 84.060%\n",
      "Будет достаточно 2 главных компонент, т.к. уровень информативности больше 55%\n"
     ]
    }
   ],
   "source": [
    "#оценка уровня информативности\n",
    "pc = 0\n",
    "lmbd = 0\n",
    "\n",
    "for i in range(4):\n",
    "    lmbd = lmbd + eigenvalues_sorted[i]\n",
    "    I = lmbd * 100 / f_len\n",
    "    if (I > 55) & (pc == 0):\n",
    "      pc = i+1\n",
    "    #значения собственных чисел складываются, умножаются на 100, делятся на кол-во объектов\n",
    "    print(f\"Оценка информативности для {i + 1} главных компонент:\")\n",
    "    print('I(x) = {:.3f}%'.format(I))\n",
    "print(f\"Будет достаточно {pc} главных компонент, т.к. уровень информативности больше 55%\")"
   ]
  },
  {
   "cell_type": "markdown",
   "metadata": {
    "id": "dy5STtB6AnIh"
   },
   "source": [
    "## Критерий Кайзера"
   ]
  },
  {
   "cell_type": "code",
   "execution_count": 18,
   "metadata": {
    "colab": {
     "base_uri": "https://localhost:8080/"
    },
    "id": "iwxCpeYN7Feo",
    "outputId": "1473a2e1-c5fa-4949-895a-12487bf2d713"
   },
   "outputs": [
    {
     "name": "stdout",
     "output_type": "stream",
     "text": [
      "Критерий Кайзера:  3\n",
      "Гипотеза о достаточности 2 главных компонент принимается\n"
     ]
    }
   ],
   "source": [
    "print(\"Критерий Кайзера: \", len(eigenvalues[eigenvalues > 1]))\n",
    "#вычисляется длина массива для первых трех собсвенных чисел, поскольку все остальные <1\n",
    "if len(eigenvalues[eigenvalues > 1]) >= pc:\n",
    "    print(f\"Гипотеза о достаточности {pc} главных компонент принимается\")\n",
    "else:\n",
    "    print(f\"Гипотеза о достаточности {pc} главных компонент отвергается\")\n",
    "pc = len(eigenvalues[eigenvalues > 1]) - 1 #количество главных компонент выбирается по критерию Кайзера для дальнейшей работы"
   ]
  },
  {
   "cell_type": "code",
   "execution_count": 19,
   "metadata": {},
   "outputs": [
    {
     "data": {
      "text/plain": [
       "2"
      ]
     },
     "execution_count": 19,
     "metadata": {},
     "output_type": "execute_result"
    }
   ],
   "source": [
    "pc"
   ]
  },
  {
   "cell_type": "markdown",
   "metadata": {
    "id": "KURhr8ayBc5e"
   },
   "source": [
    "## График собственных чисел"
   ]
  },
  {
   "cell_type": "markdown",
   "metadata": {
    "id": "EB8RFQzwBikg"
   },
   "source": [
    "#### Подсчет матрицы дисперсий"
   ]
  },
  {
   "cell_type": "code",
   "execution_count": 20,
   "metadata": {
    "id": "rVsdeBxK7Feo"
   },
   "outputs": [],
   "source": [
    "# матрица дисперсий\n",
    "dispersion = np.empty(len(eigenvalues)) #массив заданной размерности, но без инициализации его значений\n",
    "eigenvalues_sum = eigenvalues.sum() #сумма собственных чисел\n",
    "\n",
    "for i in range(dispersion.shape[0]):\n",
    "    dispersion[i] = eigenvalues[i] / eigenvalues_sum \n",
    "\n",
    "var = map(lambda x: x / eigenvalues_sum, eigenvalues_sorted) #функция, значение собственного числа делиться на всю сумму\n",
    "df = pd.DataFrame(\n",
    "    zip( #создает итератор, который объединяет элементы из нескольких источников данных\n",
    "        eigenvalues_sorted,\n",
    "        range(1, len(eigenvalues_sorted) + 1),\n",
    "        map(lambda x: round(100*x / eigenvalues_sum, 2), eigenvalues_sorted)\n",
    "    ),\n",
    "    columns=[\"eig\", \"number\", \"variance_share, %\"]\n",
    ")"
   ]
  },
  {
   "cell_type": "markdown",
   "metadata": {
    "id": "hcNbR5wLCVgv"
   },
   "source": [
    "#### Изображаем на графике собственных чисел"
   ]
  },
  {
   "cell_type": "code",
   "execution_count": 21,
   "metadata": {
    "colab": {
     "base_uri": "https://localhost:8080/",
     "height": 392
    },
    "id": "h1ha0age7Fep",
    "outputId": "c56b6f8c-f616-4926-e473-0e4876ac28cd"
   },
   "outputs": [
    {
     "data": {
      "image/png": "[encoded data removed]",
      "text/plain": [
       "<Figure size 800x600 with 1 Axes>"
      ]
     },
     "metadata": {},
     "output_type": "display_data"
    }
   ],
   "source": [
    "plt.figure(figsize=(8, 6)) #создали область Figure\n",
    "plt.title('Eigenvalues of correlation matrix',fontsize=16)\n",
    "plt.plot(df['number'], df['eig'], marker='o')\n",
    "#plot рисует точки, соединенные линиями, df - датафрейм из прошлого блока кода\n",
    "ax = plt.gca()\n",
    "#используется для получения текущего экземпляра Axes на текущей фигуре, axes- непосредственно область построения\n",
    "df.apply(lambda x: ax.annotate(x['variance_share, %'], (x['number'], x['eig'])), axis=1)\n",
    "#применение функции к каждой строке, annotate добавляет аннотацию на координатную плоскость в координаты (x, y)\n",
    "plt.show()"
   ]
  },
  {
   "cell_type": "markdown",
   "metadata": {
    "id": "dkZLR5RbCgwC"
   },
   "source": [
    "## Вклады главных компонент в суммарную дисперсию исходных признаков"
   ]
  },
  {
   "cell_type": "code",
   "execution_count": 22,
   "metadata": {
    "colab": {
     "base_uri": "https://localhost:8080/",
     "height": 381
    },
    "id": "kOhwLxl_7Fep",
    "outputId": "9d84b446-35e3-42a1-9b33-d177e284f92a"
   },
   "outputs": [
    {
     "name": "stdout",
     "output_type": "stream",
     "text": [
      "Вклады главных компонент в суммарную дисперсию исходных признаков\n"
     ]
    },
    {
     "data": {
      "text/html": [
       "<div>\n",
       "<style scoped>\n",
       "    .dataframe tbody tr th:only-of-type {\n",
       "        vertical-align: middle;\n",
       "    }\n",
       "\n",
       "    .dataframe tbody tr th {\n",
       "        vertical-align: top;\n",
       "    }\n",
       "\n",
       "    .dataframe thead th {\n",
       "        text-align: right;\n",
       "    }\n",
       "</style>\n",
       "<table border=\"1\" class=\"dataframe\">\n",
       "  <thead>\n",
       "    <tr style=\"text-align: right;\">\n",
       "      <th></th>\n",
       "      <th>eig</th>\n",
       "      <th>number</th>\n",
       "      <th>variance_share, %</th>\n",
       "      <th>cum_eig</th>\n",
       "      <th>cum_variance_share, %</th>\n",
       "    </tr>\n",
       "  </thead>\n",
       "  <tbody>\n",
       "    <tr>\n",
       "      <th>0</th>\n",
       "      <td>3.293890</td>\n",
       "      <td>1</td>\n",
       "      <td>36.60</td>\n",
       "      <td>3.293890</td>\n",
       "      <td>36.60</td>\n",
       "    </tr>\n",
       "    <tr>\n",
       "      <th>1</th>\n",
       "      <td>1.929529</td>\n",
       "      <td>2</td>\n",
       "      <td>21.44</td>\n",
       "      <td>5.223419</td>\n",
       "      <td>58.04</td>\n",
       "    </tr>\n",
       "    <tr>\n",
       "      <th>2</th>\n",
       "      <td>1.545141</td>\n",
       "      <td>3</td>\n",
       "      <td>17.17</td>\n",
       "      <td>6.768560</td>\n",
       "      <td>75.21</td>\n",
       "    </tr>\n",
       "    <tr>\n",
       "      <th>3</th>\n",
       "      <td>0.796854</td>\n",
       "      <td>4</td>\n",
       "      <td>8.85</td>\n",
       "      <td>7.565415</td>\n",
       "      <td>84.06</td>\n",
       "    </tr>\n",
       "    <tr>\n",
       "      <th>4</th>\n",
       "      <td>0.495003</td>\n",
       "      <td>5</td>\n",
       "      <td>5.50</td>\n",
       "      <td>8.060417</td>\n",
       "      <td>89.56</td>\n",
       "    </tr>\n",
       "    <tr>\n",
       "      <th>5</th>\n",
       "      <td>0.336451</td>\n",
       "      <td>6</td>\n",
       "      <td>3.74</td>\n",
       "      <td>8.396868</td>\n",
       "      <td>93.30</td>\n",
       "    </tr>\n",
       "    <tr>\n",
       "      <th>6</th>\n",
       "      <td>0.245739</td>\n",
       "      <td>7</td>\n",
       "      <td>2.73</td>\n",
       "      <td>8.642608</td>\n",
       "      <td>96.03</td>\n",
       "    </tr>\n",
       "    <tr>\n",
       "      <th>7</th>\n",
       "      <td>0.209645</td>\n",
       "      <td>8</td>\n",
       "      <td>2.33</td>\n",
       "      <td>8.852253</td>\n",
       "      <td>98.36</td>\n",
       "    </tr>\n",
       "    <tr>\n",
       "      <th>8</th>\n",
       "      <td>0.147747</td>\n",
       "      <td>9</td>\n",
       "      <td>1.64</td>\n",
       "      <td>9.000000</td>\n",
       "      <td>100.00</td>\n",
       "    </tr>\n",
       "  </tbody>\n",
       "</table>\n",
       "</div>"
      ],
      "text/plain": [
       "        eig  number  variance_share, %   cum_eig  cum_variance_share, %\n",
       "0  3.293890       1              36.60  3.293890                  36.60\n",
       "1  1.929529       2              21.44  5.223419                  58.04\n",
       "2  1.545141       3              17.17  6.768560                  75.21\n",
       "3  0.796854       4               8.85  7.565415                  84.06\n",
       "4  0.495003       5               5.50  8.060417                  89.56\n",
       "5  0.336451       6               3.74  8.396868                  93.30\n",
       "6  0.245739       7               2.73  8.642608                  96.03\n",
       "7  0.209645       8               2.33  8.852253                  98.36\n",
       "8  0.147747       9               1.64  9.000000                 100.00"
      ]
     },
     "execution_count": 22,
     "metadata": {},
     "output_type": "execute_result"
    }
   ],
   "source": [
    "print(\"Вклады главных компонент в суммарную дисперсию исходных признаков\")\n",
    "result = pd.concat([df, np.cumsum(df[['eig', 'variance_share, %']])], axis=1) \n",
    "#concat соединяет пересекающиеся данные для заполнения недостающих значений в структуре, \n",
    "#cumsum () возвращает кумулятивную (накапливаемую) сумму элементов массива\n",
    "result.columns = list(df.columns) + ['cum_eig', 'cum_variance_share, %']\n",
    "result"
   ]
  },
  {
   "cell_type": "markdown",
   "metadata": {
    "id": "2kmY5vxNdPOb"
   },
   "source": [
    "## Матрица главных компонент U"
   ]
  },
  {
   "cell_type": "code",
   "execution_count": 23,
   "metadata": {
    "colab": {
     "base_uri": "https://localhost:8080/",
     "height": 363
    },
    "id": "qZmPcGxh7Feq",
    "outputId": "71ffa183-cb2f-4d7e-857e-7c023f9a3195"
   },
   "outputs": [
    {
     "data": {
      "text/html": [
       "<div>\n",
       "<style scoped>\n",
       "    .dataframe tbody tr th:only-of-type {\n",
       "        vertical-align: middle;\n",
       "    }\n",
       "\n",
       "    .dataframe tbody tr th {\n",
       "        vertical-align: top;\n",
       "    }\n",
       "\n",
       "    .dataframe thead th {\n",
       "        text-align: right;\n",
       "    }\n",
       "</style>\n",
       "<table border=\"1\" class=\"dataframe\">\n",
       "  <thead>\n",
       "    <tr style=\"text-align: right;\">\n",
       "      <th></th>\n",
       "      <th>Factor_1</th>\n",
       "      <th>Factor_2</th>\n",
       "      <th>Factor_3</th>\n",
       "      <th>Factor_4</th>\n",
       "      <th>Factor_5</th>\n",
       "      <th>Factor_6</th>\n",
       "      <th>Factor_7</th>\n",
       "      <th>Factor_8</th>\n",
       "      <th>Factor_9</th>\n",
       "    </tr>\n",
       "  </thead>\n",
       "  <tbody>\n",
       "    <tr>\n",
       "      <th>X1</th>\n",
       "      <td>0.324576</td>\n",
       "      <td>0.413852</td>\n",
       "      <td>0.144908</td>\n",
       "      <td>0.088667</td>\n",
       "      <td>0.675445</td>\n",
       "      <td>0.004844</td>\n",
       "      <td>0.477321</td>\n",
       "      <td>-0.083584</td>\n",
       "      <td>-0.058696</td>\n",
       "    </tr>\n",
       "    <tr>\n",
       "      <th>X2</th>\n",
       "      <td>0.324963</td>\n",
       "      <td>-0.070188</td>\n",
       "      <td>0.444850</td>\n",
       "      <td>0.457969</td>\n",
       "      <td>-0.249781</td>\n",
       "      <td>-0.638348</td>\n",
       "      <td>-0.007373</td>\n",
       "      <td>-0.002781</td>\n",
       "      <td>0.109107</td>\n",
       "    </tr>\n",
       "    <tr>\n",
       "      <th>X3</th>\n",
       "      <td>0.399260</td>\n",
       "      <td>-0.339217</td>\n",
       "      <td>0.180739</td>\n",
       "      <td>-0.030661</td>\n",
       "      <td>0.396076</td>\n",
       "      <td>0.145386</td>\n",
       "      <td>-0.642361</td>\n",
       "      <td>-0.094015</td>\n",
       "      <td>-0.304033</td>\n",
       "    </tr>\n",
       "    <tr>\n",
       "      <th>X4</th>\n",
       "      <td>0.249874</td>\n",
       "      <td>0.030706</td>\n",
       "      <td>0.597380</td>\n",
       "      <td>-0.236197</td>\n",
       "      <td>-0.427506</td>\n",
       "      <td>0.514320</td>\n",
       "      <td>0.239238</td>\n",
       "      <td>-0.064323</td>\n",
       "      <td>-0.123733</td>\n",
       "    </tr>\n",
       "    <tr>\n",
       "      <th>X5</th>\n",
       "      <td>0.365190</td>\n",
       "      <td>0.404923</td>\n",
       "      <td>-0.233056</td>\n",
       "      <td>0.145987</td>\n",
       "      <td>-0.182158</td>\n",
       "      <td>0.132409</td>\n",
       "      <td>-0.188000</td>\n",
       "      <td>0.724590</td>\n",
       "      <td>-0.126322</td>\n",
       "    </tr>\n",
       "    <tr>\n",
       "      <th>X6</th>\n",
       "      <td>0.283343</td>\n",
       "      <td>0.454375</td>\n",
       "      <td>-0.341029</td>\n",
       "      <td>0.104975</td>\n",
       "      <td>-0.290484</td>\n",
       "      <td>0.043545</td>\n",
       "      <td>-0.215024</td>\n",
       "      <td>-0.671951</td>\n",
       "      <td>-0.043699</td>\n",
       "    </tr>\n",
       "    <tr>\n",
       "      <th>X7</th>\n",
       "      <td>-0.127260</td>\n",
       "      <td>0.452620</td>\n",
       "      <td>0.286609</td>\n",
       "      <td>-0.659639</td>\n",
       "      <td>0.047337</td>\n",
       "      <td>-0.388376</td>\n",
       "      <td>-0.313488</td>\n",
       "      <td>0.052935</td>\n",
       "      <td>0.086704</td>\n",
       "    </tr>\n",
       "    <tr>\n",
       "      <th>X8</th>\n",
       "      <td>0.347921</td>\n",
       "      <td>-0.291668</td>\n",
       "      <td>-0.330828</td>\n",
       "      <td>-0.435392</td>\n",
       "      <td>-0.144252</td>\n",
       "      <td>-0.361773</td>\n",
       "      <td>0.348816</td>\n",
       "      <td>0.007263</td>\n",
       "      <td>-0.470589</td>\n",
       "    </tr>\n",
       "    <tr>\n",
       "      <th>X9</th>\n",
       "      <td>0.465095</td>\n",
       "      <td>-0.217794</td>\n",
       "      <td>-0.171387</td>\n",
       "      <td>-0.262015</td>\n",
       "      <td>0.033676</td>\n",
       "      <td>0.075375</td>\n",
       "      <td>0.026845</td>\n",
       "      <td>0.025009</td>\n",
       "      <td>0.793767</td>\n",
       "    </tr>\n",
       "  </tbody>\n",
       "</table>\n",
       "</div>"
      ],
      "text/plain": [
       "    Factor_1  Factor_2  Factor_3  Factor_4  Factor_5  Factor_6  Factor_7  \\\n",
       "X1  0.324576  0.413852  0.144908  0.088667  0.675445  0.004844  0.477321   \n",
       "X2  0.324963 -0.070188  0.444850  0.457969 -0.249781 -0.638348 -0.007373   \n",
       "X3  0.399260 -0.339217  0.180739 -0.030661  0.396076  0.145386 -0.642361   \n",
       "X4  0.249874  0.030706  0.597380 -0.236197 -0.427506  0.514320  0.239238   \n",
       "X5  0.365190  0.404923 -0.233056  0.145987 -0.182158  0.132409 -0.188000   \n",
       "X6  0.283343  0.454375 -0.341029  0.104975 -0.290484  0.043545 -0.215024   \n",
       "X7 -0.127260  0.452620  0.286609 -0.659639  0.047337 -0.388376 -0.313488   \n",
       "X8  0.347921 -0.291668 -0.330828 -0.435392 -0.144252 -0.361773  0.348816   \n",
       "X9  0.465095 -0.217794 -0.171387 -0.262015  0.033676  0.075375  0.026845   \n",
       "\n",
       "    Factor_8  Factor_9  \n",
       "X1 -0.083584 -0.058696  \n",
       "X2 -0.002781  0.109107  \n",
       "X3 -0.094015 -0.304033  \n",
       "X4 -0.064323 -0.123733  \n",
       "X5  0.724590 -0.126322  \n",
       "X6 -0.671951 -0.043699  \n",
       "X7  0.052935  0.086704  \n",
       "X8  0.007263 -0.470589  \n",
       "X9  0.025009  0.793767  "
      ]
     },
     "execution_count": 23,
     "metadata": {},
     "output_type": "execute_result"
    }
   ],
   "source": [
    "# Коэффициенты линейного преобразования центрировано-нормированных исходных признаков\n",
    "u = np.empty((f_len, f_len))  #матрица U главных компонент\n",
    "for i in range(f_len):\n",
    "    u[i] = couple_lst[i][1]  #достаем главные компоненты\n",
    "    #print(u[i])\n",
    "    #u[i] - собственные вектора корреляционный матрицы\n",
    "# Создадим фрейм\n",
    "u = pd.DataFrame(\n",
    "    data=u.T,\n",
    "    columns=['Factor_' + str(i+1) for i in range(f_len)],\n",
    "    index=features\n",
    ")\n",
    "u"
   ]
  },
  {
   "cell_type": "markdown",
   "metadata": {
    "id": "whHriMeFDMzF"
   },
   "source": [
    "## Полная матрица нагрузок"
   ]
  },
  {
   "cell_type": "code",
   "execution_count": 24,
   "metadata": {
    "colab": {
     "base_uri": "https://localhost:8080/",
     "height": 363
    },
    "id": "UI8O57qHNgII",
    "outputId": "a4fba0d3-8af0-4fc5-c323-2ed47149253e"
   },
   "outputs": [
    {
     "data": {
      "text/html": [
       "<div>\n",
       "<style scoped>\n",
       "    .dataframe tbody tr th:only-of-type {\n",
       "        vertical-align: middle;\n",
       "    }\n",
       "\n",
       "    .dataframe tbody tr th {\n",
       "        vertical-align: top;\n",
       "    }\n",
       "\n",
       "    .dataframe thead th {\n",
       "        text-align: right;\n",
       "    }\n",
       "</style>\n",
       "<table border=\"1\" class=\"dataframe\">\n",
       "  <thead>\n",
       "    <tr style=\"text-align: right;\">\n",
       "      <th></th>\n",
       "      <th>Factor_1</th>\n",
       "      <th>Factor_2</th>\n",
       "      <th>Factor_3</th>\n",
       "      <th>Factor_4</th>\n",
       "      <th>Factor_5</th>\n",
       "      <th>Factor_6</th>\n",
       "      <th>Factor_7</th>\n",
       "      <th>Factor_8</th>\n",
       "      <th>Factor_9</th>\n",
       "    </tr>\n",
       "  </thead>\n",
       "  <tbody>\n",
       "    <tr>\n",
       "      <th>X1</th>\n",
       "      <td>0.589075</td>\n",
       "      <td>0.574872</td>\n",
       "      <td>0.180126</td>\n",
       "      <td>0.079150</td>\n",
       "      <td>0.475219</td>\n",
       "      <td>0.002810</td>\n",
       "      <td>0.236618</td>\n",
       "      <td>-0.038271</td>\n",
       "      <td>-0.022562</td>\n",
       "    </tr>\n",
       "    <tr>\n",
       "      <th>X2</th>\n",
       "      <td>0.589778</td>\n",
       "      <td>-0.097496</td>\n",
       "      <td>0.552965</td>\n",
       "      <td>0.408814</td>\n",
       "      <td>-0.175737</td>\n",
       "      <td>-0.370270</td>\n",
       "      <td>-0.003655</td>\n",
       "      <td>-0.001273</td>\n",
       "      <td>0.041938</td>\n",
       "    </tr>\n",
       "    <tr>\n",
       "      <th>X3</th>\n",
       "      <td>0.724620</td>\n",
       "      <td>-0.471198</td>\n",
       "      <td>0.224665</td>\n",
       "      <td>-0.027370</td>\n",
       "      <td>0.278665</td>\n",
       "      <td>0.084330</td>\n",
       "      <td>-0.318432</td>\n",
       "      <td>-0.043047</td>\n",
       "      <td>-0.116864</td>\n",
       "    </tr>\n",
       "    <tr>\n",
       "      <th>X4</th>\n",
       "      <td>0.453498</td>\n",
       "      <td>0.042652</td>\n",
       "      <td>0.742565</td>\n",
       "      <td>-0.210845</td>\n",
       "      <td>-0.300778</td>\n",
       "      <td>0.298329</td>\n",
       "      <td>0.118595</td>\n",
       "      <td>-0.029452</td>\n",
       "      <td>-0.047560</td>\n",
       "    </tr>\n",
       "    <tr>\n",
       "      <th>X5</th>\n",
       "      <td>0.662786</td>\n",
       "      <td>0.562468</td>\n",
       "      <td>-0.289698</td>\n",
       "      <td>0.130318</td>\n",
       "      <td>-0.128160</td>\n",
       "      <td>0.076803</td>\n",
       "      <td>-0.093196</td>\n",
       "      <td>0.331769</td>\n",
       "      <td>-0.048556</td>\n",
       "    </tr>\n",
       "    <tr>\n",
       "      <th>X6</th>\n",
       "      <td>0.514242</td>\n",
       "      <td>0.631161</td>\n",
       "      <td>-0.423911</td>\n",
       "      <td>0.093708</td>\n",
       "      <td>-0.204374</td>\n",
       "      <td>0.025258</td>\n",
       "      <td>-0.106592</td>\n",
       "      <td>-0.307666</td>\n",
       "      <td>-0.016797</td>\n",
       "    </tr>\n",
       "    <tr>\n",
       "      <th>X7</th>\n",
       "      <td>-0.230965</td>\n",
       "      <td>0.628724</td>\n",
       "      <td>0.356266</td>\n",
       "      <td>-0.588838</td>\n",
       "      <td>0.033304</td>\n",
       "      <td>-0.225275</td>\n",
       "      <td>-0.155403</td>\n",
       "      <td>0.024238</td>\n",
       "      <td>0.033327</td>\n",
       "    </tr>\n",
       "    <tr>\n",
       "      <th>X8</th>\n",
       "      <td>0.631444</td>\n",
       "      <td>-0.405149</td>\n",
       "      <td>-0.411232</td>\n",
       "      <td>-0.388660</td>\n",
       "      <td>-0.101490</td>\n",
       "      <td>-0.209845</td>\n",
       "      <td>0.172915</td>\n",
       "      <td>0.003326</td>\n",
       "      <td>-0.180884</td>\n",
       "    </tr>\n",
       "    <tr>\n",
       "      <th>X9</th>\n",
       "      <td>0.844104</td>\n",
       "      <td>-0.302532</td>\n",
       "      <td>-0.213040</td>\n",
       "      <td>-0.233892</td>\n",
       "      <td>0.023693</td>\n",
       "      <td>0.043721</td>\n",
       "      <td>0.013308</td>\n",
       "      <td>0.011451</td>\n",
       "      <td>0.305107</td>\n",
       "    </tr>\n",
       "  </tbody>\n",
       "</table>\n",
       "</div>"
      ],
      "text/plain": [
       "    Factor_1  Factor_2  Factor_3  Factor_4  Factor_5  Factor_6  Factor_7  \\\n",
       "X1  0.589075  0.574872  0.180126  0.079150  0.475219  0.002810  0.236618   \n",
       "X2  0.589778 -0.097496  0.552965  0.408814 -0.175737 -0.370270 -0.003655   \n",
       "X3  0.724620 -0.471198  0.224665 -0.027370  0.278665  0.084330 -0.318432   \n",
       "X4  0.453498  0.042652  0.742565 -0.210845 -0.300778  0.298329  0.118595   \n",
       "X5  0.662786  0.562468 -0.289698  0.130318 -0.128160  0.076803 -0.093196   \n",
       "X6  0.514242  0.631161 -0.423911  0.093708 -0.204374  0.025258 -0.106592   \n",
       "X7 -0.230965  0.628724  0.356266 -0.588838  0.033304 -0.225275 -0.155403   \n",
       "X8  0.631444 -0.405149 -0.411232 -0.388660 -0.101490 -0.209845  0.172915   \n",
       "X9  0.844104 -0.302532 -0.213040 -0.233892  0.023693  0.043721  0.013308   \n",
       "\n",
       "    Factor_8  Factor_9  \n",
       "X1 -0.038271 -0.022562  \n",
       "X2 -0.001273  0.041938  \n",
       "X3 -0.043047 -0.116864  \n",
       "X4 -0.029452 -0.047560  \n",
       "X5  0.331769 -0.048556  \n",
       "X6 -0.307666 -0.016797  \n",
       "X7  0.024238  0.033327  \n",
       "X8  0.003326 -0.180884  \n",
       "X9  0.011451  0.305107  "
      ]
     },
     "execution_count": 24,
     "metadata": {},
     "output_type": "execute_result"
    }
   ],
   "source": [
    "# полная матрица нагрузок\n",
    "sqrt_l = np.eye(f_len)\n",
    "for i in range(f_len):\n",
    "    sqrt_l[i][i] = math.sqrt(eigenvalues_sorted[i])\n",
    "A = np.dot(u, sqrt_l)\n",
    "A = pd.DataFrame(\n",
    "    data=A,\n",
    "    columns=['Factor_' + str(i+1) for i in range(f_len)],\n",
    "    index=features\n",
    ")\n",
    "A"
   ]
  },
  {
   "cell_type": "markdown",
   "metadata": {
    "id": "tQblLkIFE3ke"
   },
   "source": [
    "### Матрица нагрузок A"
   ]
  },
  {
   "cell_type": "code",
   "execution_count": 25,
   "metadata": {
    "colab": {
     "base_uri": "https://localhost:8080/",
     "height": 363
    },
    "id": "CN3rr8c6OC2F",
    "outputId": "7be41e72-1630-404a-f6c2-92baa22f9bdd"
   },
   "outputs": [
    {
     "data": {
      "text/html": [
       "<div>\n",
       "<style scoped>\n",
       "    .dataframe tbody tr th:only-of-type {\n",
       "        vertical-align: middle;\n",
       "    }\n",
       "\n",
       "    .dataframe tbody tr th {\n",
       "        vertical-align: top;\n",
       "    }\n",
       "\n",
       "    .dataframe thead th {\n",
       "        text-align: right;\n",
       "    }\n",
       "</style>\n",
       "<table border=\"1\" class=\"dataframe\">\n",
       "  <thead>\n",
       "    <tr style=\"text-align: right;\">\n",
       "      <th></th>\n",
       "      <th>Factor_1</th>\n",
       "      <th>Factor_2</th>\n",
       "    </tr>\n",
       "  </thead>\n",
       "  <tbody>\n",
       "    <tr>\n",
       "      <th>X1</th>\n",
       "      <td>0.589075</td>\n",
       "      <td>0.574872</td>\n",
       "    </tr>\n",
       "    <tr>\n",
       "      <th>X2</th>\n",
       "      <td>0.589778</td>\n",
       "      <td>-0.097496</td>\n",
       "    </tr>\n",
       "    <tr>\n",
       "      <th>X3</th>\n",
       "      <td>0.724620</td>\n",
       "      <td>-0.471198</td>\n",
       "    </tr>\n",
       "    <tr>\n",
       "      <th>X4</th>\n",
       "      <td>0.453498</td>\n",
       "      <td>0.042652</td>\n",
       "    </tr>\n",
       "    <tr>\n",
       "      <th>X5</th>\n",
       "      <td>0.662786</td>\n",
       "      <td>0.562468</td>\n",
       "    </tr>\n",
       "    <tr>\n",
       "      <th>X6</th>\n",
       "      <td>0.514242</td>\n",
       "      <td>0.631161</td>\n",
       "    </tr>\n",
       "    <tr>\n",
       "      <th>X7</th>\n",
       "      <td>-0.230965</td>\n",
       "      <td>0.628724</td>\n",
       "    </tr>\n",
       "    <tr>\n",
       "      <th>X8</th>\n",
       "      <td>0.631444</td>\n",
       "      <td>-0.405149</td>\n",
       "    </tr>\n",
       "    <tr>\n",
       "      <th>X9</th>\n",
       "      <td>0.844104</td>\n",
       "      <td>-0.302532</td>\n",
       "    </tr>\n",
       "  </tbody>\n",
       "</table>\n",
       "</div>"
      ],
      "text/plain": [
       "    Factor_1  Factor_2\n",
       "X1  0.589075  0.574872\n",
       "X2  0.589778 -0.097496\n",
       "X3  0.724620 -0.471198\n",
       "X4  0.453498  0.042652\n",
       "X5  0.662786  0.562468\n",
       "X6  0.514242  0.631161\n",
       "X7 -0.230965  0.628724\n",
       "X8  0.631444 -0.405149\n",
       "X9  0.844104 -0.302532"
      ]
     },
     "execution_count": 25,
     "metadata": {},
     "output_type": "execute_result"
    }
   ],
   "source": [
    "#возьмем только первые главные компоненты\n",
    "u1 = u.iloc[:, :pc]\n",
    "\n",
    "# рассчитаем первые pc для матрицы назгрузок\n",
    "A1 = A.iloc[:, :pc]\n",
    "A1"
   ]
  },
  {
   "cell_type": "markdown",
   "metadata": {
    "id": "hbEFjBtIFj1D"
   },
   "source": [
    "## Матрица индивидуальных значений главных компонент"
   ]
  },
  {
   "cell_type": "code",
   "execution_count": 26,
   "metadata": {
    "colab": {
     "base_uri": "https://localhost:8080/",
     "height": 455
    },
    "id": "TVrOTaFK7Fer",
    "outputId": "9d635255-6016-45be-8f45-bf39656f28ed"
   },
   "outputs": [
    {
     "data": {
      "text/html": [
       "<div>\n",
       "<style scoped>\n",
       "    .dataframe tbody tr th:only-of-type {\n",
       "        vertical-align: middle;\n",
       "    }\n",
       "\n",
       "    .dataframe tbody tr th {\n",
       "        vertical-align: top;\n",
       "    }\n",
       "\n",
       "    .dataframe thead th {\n",
       "        text-align: right;\n",
       "    }\n",
       "</style>\n",
       "<table border=\"1\" class=\"dataframe\">\n",
       "  <thead>\n",
       "    <tr style=\"text-align: right;\">\n",
       "      <th></th>\n",
       "      <th>Factor_1</th>\n",
       "      <th>Factor_2</th>\n",
       "    </tr>\n",
       "    <tr>\n",
       "      <th>Регион</th>\n",
       "      <th></th>\n",
       "      <th></th>\n",
       "    </tr>\n",
       "  </thead>\n",
       "  <tbody>\n",
       "    <tr>\n",
       "      <th>Алтайский край</th>\n",
       "      <td>-0.097016</td>\n",
       "      <td>1.379084</td>\n",
       "    </tr>\n",
       "    <tr>\n",
       "      <th>Амурская область</th>\n",
       "      <td>0.996280</td>\n",
       "      <td>1.307527</td>\n",
       "    </tr>\n",
       "    <tr>\n",
       "      <th>Архангельская область</th>\n",
       "      <td>0.359142</td>\n",
       "      <td>-0.351850</td>\n",
       "    </tr>\n",
       "    <tr>\n",
       "      <th>Астраханская область</th>\n",
       "      <td>-0.077279</td>\n",
       "      <td>-0.102011</td>\n",
       "    </tr>\n",
       "    <tr>\n",
       "      <th>Белгородская область</th>\n",
       "      <td>-0.431204</td>\n",
       "      <td>-0.588873</td>\n",
       "    </tr>\n",
       "    <tr>\n",
       "      <th>...</th>\n",
       "      <td>...</td>\n",
       "      <td>...</td>\n",
       "    </tr>\n",
       "    <tr>\n",
       "      <th>Чеченская Республика</th>\n",
       "      <td>-1.691926</td>\n",
       "      <td>-1.959245</td>\n",
       "    </tr>\n",
       "    <tr>\n",
       "      <th>Чувашская Республика</th>\n",
       "      <td>-0.523262</td>\n",
       "      <td>0.259129</td>\n",
       "    </tr>\n",
       "    <tr>\n",
       "      <th>Чукотский автономный округ</th>\n",
       "      <td>4.111501</td>\n",
       "      <td>0.241878</td>\n",
       "    </tr>\n",
       "    <tr>\n",
       "      <th>Ямало-Ненецкий автономный \\nокруг</th>\n",
       "      <td>3.776427</td>\n",
       "      <td>-3.825182</td>\n",
       "    </tr>\n",
       "    <tr>\n",
       "      <th>Ярославская область</th>\n",
       "      <td>0.461875</td>\n",
       "      <td>0.939669</td>\n",
       "    </tr>\n",
       "  </tbody>\n",
       "</table>\n",
       "<p>83 rows × 2 columns</p>\n",
       "</div>"
      ],
      "text/plain": [
       "                                   Factor_1  Factor_2\n",
       "Регион                                               \n",
       "Алтайский край                    -0.097016  1.379084\n",
       "Амурская область                   0.996280  1.307527\n",
       "Архангельская область              0.359142 -0.351850\n",
       "Астраханская область              -0.077279 -0.102011\n",
       "Белгородская область              -0.431204 -0.588873\n",
       "...                                     ...       ...\n",
       "Чеченская Республика              -1.691926 -1.959245\n",
       "Чувашская Республика              -0.523262  0.259129\n",
       "Чукотский автономный округ         4.111501  0.241878\n",
       "Ямало-Ненецкий автономный \\nокруг  3.776427 -3.825182\n",
       "Ярославская область                0.461875  0.939669\n",
       "\n",
       "[83 rows x 2 columns]"
      ]
     },
     "execution_count": 26,
     "metadata": {},
     "output_type": "execute_result"
    }
   ],
   "source": [
    "# Матрица индивидуальных значений главных компонент\n",
    "# @ - оператор перемноженния матриц\n",
    "F = (np.linalg.inv(A.T @ A) @ A.T @ data.T).T \n",
    "F = F.iloc[:, :pc] # Берем первые pc главных компонент\n",
    "F.columns = ['Factor_' + str(i + 1) for i in range(pc)]\n",
    "F[:85]"
   ]
  },
  {
   "cell_type": "markdown",
   "metadata": {
    "id": "TzRRR-80F1l4"
   },
   "source": [
    "### Сравнить эту матрицу с полученной в STATISTICA\n",
    "#### Если есть столбцы с обратными знаками, то раскомментировать соответствующую строчку"
   ]
  },
  {
   "cell_type": "code",
   "execution_count": 29,
   "metadata": {
    "colab": {
     "base_uri": "https://localhost:8080/",
     "height": 455
    },
    "id": "9xow5io2FyTD",
    "outputId": "fc58209a-86c6-4cfc-b956-29ad239d9d7e"
   },
   "outputs": [
    {
     "data": {
      "text/html": [
       "<div>\n",
       "<style scoped>\n",
       "    .dataframe tbody tr th:only-of-type {\n",
       "        vertical-align: middle;\n",
       "    }\n",
       "\n",
       "    .dataframe tbody tr th {\n",
       "        vertical-align: top;\n",
       "    }\n",
       "\n",
       "    .dataframe thead th {\n",
       "        text-align: right;\n",
       "    }\n",
       "</style>\n",
       "<table border=\"1\" class=\"dataframe\">\n",
       "  <thead>\n",
       "    <tr style=\"text-align: right;\">\n",
       "      <th></th>\n",
       "      <th>Factor_1</th>\n",
       "      <th>Factor_2</th>\n",
       "    </tr>\n",
       "    <tr>\n",
       "      <th>Регион</th>\n",
       "      <th></th>\n",
       "      <th></th>\n",
       "    </tr>\n",
       "  </thead>\n",
       "  <tbody>\n",
       "    <tr>\n",
       "      <th>Алтайский край</th>\n",
       "      <td>0.097016</td>\n",
       "      <td>1.379084</td>\n",
       "    </tr>\n",
       "    <tr>\n",
       "      <th>Амурская область</th>\n",
       "      <td>-0.996280</td>\n",
       "      <td>1.307527</td>\n",
       "    </tr>\n",
       "    <tr>\n",
       "      <th>Архангельская область</th>\n",
       "      <td>-0.359142</td>\n",
       "      <td>-0.351850</td>\n",
       "    </tr>\n",
       "    <tr>\n",
       "      <th>Астраханская область</th>\n",
       "      <td>0.077279</td>\n",
       "      <td>-0.102011</td>\n",
       "    </tr>\n",
       "    <tr>\n",
       "      <th>Белгородская область</th>\n",
       "      <td>0.431204</td>\n",
       "      <td>-0.588873</td>\n",
       "    </tr>\n",
       "    <tr>\n",
       "      <th>...</th>\n",
       "      <td>...</td>\n",
       "      <td>...</td>\n",
       "    </tr>\n",
       "    <tr>\n",
       "      <th>Чеченская Республика</th>\n",
       "      <td>1.691926</td>\n",
       "      <td>-1.959245</td>\n",
       "    </tr>\n",
       "    <tr>\n",
       "      <th>Чувашская Республика</th>\n",
       "      <td>0.523262</td>\n",
       "      <td>0.259129</td>\n",
       "    </tr>\n",
       "    <tr>\n",
       "      <th>Чукотский автономный округ</th>\n",
       "      <td>-4.111501</td>\n",
       "      <td>0.241878</td>\n",
       "    </tr>\n",
       "    <tr>\n",
       "      <th>Ямало-Ненецкий автономный \\nокруг</th>\n",
       "      <td>-3.776427</td>\n",
       "      <td>-3.825182</td>\n",
       "    </tr>\n",
       "    <tr>\n",
       "      <th>Ярославская область</th>\n",
       "      <td>-0.461875</td>\n",
       "      <td>0.939669</td>\n",
       "    </tr>\n",
       "  </tbody>\n",
       "</table>\n",
       "<p>83 rows × 2 columns</p>\n",
       "</div>"
      ],
      "text/plain": [
       "                                   Factor_1  Factor_2\n",
       "Регион                                               \n",
       "Алтайский край                     0.097016  1.379084\n",
       "Амурская область                  -0.996280  1.307527\n",
       "Архангельская область             -0.359142 -0.351850\n",
       "Астраханская область               0.077279 -0.102011\n",
       "Белгородская область               0.431204 -0.588873\n",
       "...                                     ...       ...\n",
       "Чеченская Республика               1.691926 -1.959245\n",
       "Чувашская Республика               0.523262  0.259129\n",
       "Чукотский автономный округ        -4.111501  0.241878\n",
       "Ямало-Ненецкий автономный \\nокруг -3.776427 -3.825182\n",
       "Ярославская область               -0.461875  0.939669\n",
       "\n",
       "[83 rows x 2 columns]"
      ]
     },
     "execution_count": 29,
     "metadata": {},
     "output_type": "execute_result"
    }
   ],
   "source": [
    "#раскомментировать, если у вас компоненты с обратными знаками\n",
    "F['Factor_1']=F['Factor_1']*(-1)\n",
    "F['Factor_2']=F['Factor_2']*(-1)\n",
    "# F['Factor_3']=F['Factor_3']*(-1)\n",
    "# F['Factor_4']=F['Factor_4']*(-1)\n",
    "F"
   ]
  },
  {
   "cell_type": "markdown",
   "metadata": {
    "id": "hPV8KW4OGraA"
   },
   "source": [
    "## Загружаем распределение по классам для метода Уорда и К-средних\n",
    "### Нужно назвать столбцы в Excel как ward_old и kmeans_old соответственно !!!\n",
    "### Изменить название екселевского файла в методе read_excel !!!"
   ]
  },
  {
   "cell_type": "code",
   "execution_count": 30,
   "metadata": {
    "colab": {
     "base_uri": "https://localhost:8080/",
     "height": 455
    },
    "id": "XFUZK6I_7Fer",
    "outputId": "317456a2-bda8-4ba1-b238-2c743f14a198"
   },
   "outputs": [
    {
     "data": {
      "text/html": [
       "<div>\n",
       "<style scoped>\n",
       "    .dataframe tbody tr th:only-of-type {\n",
       "        vertical-align: middle;\n",
       "    }\n",
       "\n",
       "    .dataframe tbody tr th {\n",
       "        vertical-align: top;\n",
       "    }\n",
       "\n",
       "    .dataframe thead th {\n",
       "        text-align: right;\n",
       "    }\n",
       "</style>\n",
       "<table border=\"1\" class=\"dataframe\">\n",
       "  <thead>\n",
       "    <tr style=\"text-align: right;\">\n",
       "      <th></th>\n",
       "      <th>Factor_1</th>\n",
       "      <th>Factor_2</th>\n",
       "      <th>ward_old</th>\n",
       "      <th>kmeans_old</th>\n",
       "    </tr>\n",
       "    <tr>\n",
       "      <th>Регион</th>\n",
       "      <th></th>\n",
       "      <th></th>\n",
       "      <th></th>\n",
       "      <th></th>\n",
       "    </tr>\n",
       "  </thead>\n",
       "  <tbody>\n",
       "    <tr>\n",
       "      <th>Алтайский край</th>\n",
       "      <td>0.097016</td>\n",
       "      <td>1.379084</td>\n",
       "      <td>3</td>\n",
       "      <td>6</td>\n",
       "    </tr>\n",
       "    <tr>\n",
       "      <th>Амурская область</th>\n",
       "      <td>-0.996280</td>\n",
       "      <td>1.307527</td>\n",
       "      <td>3</td>\n",
       "      <td>6</td>\n",
       "    </tr>\n",
       "    <tr>\n",
       "      <th>Архангельская область</th>\n",
       "      <td>-0.359142</td>\n",
       "      <td>-0.351850</td>\n",
       "      <td>4</td>\n",
       "      <td>1</td>\n",
       "    </tr>\n",
       "    <tr>\n",
       "      <th>Астраханская область</th>\n",
       "      <td>0.077279</td>\n",
       "      <td>-0.102011</td>\n",
       "      <td>4</td>\n",
       "      <td>1</td>\n",
       "    </tr>\n",
       "    <tr>\n",
       "      <th>Белгородская область</th>\n",
       "      <td>0.431204</td>\n",
       "      <td>-0.588873</td>\n",
       "      <td>2</td>\n",
       "      <td>1</td>\n",
       "    </tr>\n",
       "    <tr>\n",
       "      <th>...</th>\n",
       "      <td>...</td>\n",
       "      <td>...</td>\n",
       "      <td>...</td>\n",
       "      <td>...</td>\n",
       "    </tr>\n",
       "    <tr>\n",
       "      <th>Чеченская Республика</th>\n",
       "      <td>1.691926</td>\n",
       "      <td>-1.959245</td>\n",
       "      <td>5</td>\n",
       "      <td>2</td>\n",
       "    </tr>\n",
       "    <tr>\n",
       "      <th>Чувашская Республика</th>\n",
       "      <td>0.523262</td>\n",
       "      <td>0.259129</td>\n",
       "      <td>4</td>\n",
       "      <td>1</td>\n",
       "    </tr>\n",
       "    <tr>\n",
       "      <th>Чукотский автономный округ</th>\n",
       "      <td>-4.111501</td>\n",
       "      <td>0.241878</td>\n",
       "      <td>6</td>\n",
       "      <td>5</td>\n",
       "    </tr>\n",
       "    <tr>\n",
       "      <th>Ямало-Ненецкий автономный \\nокруг</th>\n",
       "      <td>-3.776427</td>\n",
       "      <td>-3.825182</td>\n",
       "      <td>6</td>\n",
       "      <td>3</td>\n",
       "    </tr>\n",
       "    <tr>\n",
       "      <th>Ярославская область</th>\n",
       "      <td>-0.461875</td>\n",
       "      <td>0.939669</td>\n",
       "      <td>3</td>\n",
       "      <td>1</td>\n",
       "    </tr>\n",
       "  </tbody>\n",
       "</table>\n",
       "<p>83 rows × 4 columns</p>\n",
       "</div>"
      ],
      "text/plain": [
       "                                   Factor_1  Factor_2  ward_old  kmeans_old\n",
       "Регион                                                                     \n",
       "Алтайский край                     0.097016  1.379084         3           6\n",
       "Амурская область                  -0.996280  1.307527         3           6\n",
       "Архангельская область             -0.359142 -0.351850         4           1\n",
       "Астраханская область               0.077279 -0.102011         4           1\n",
       "Белгородская область               0.431204 -0.588873         2           1\n",
       "...                                     ...       ...       ...         ...\n",
       "Чеченская Республика               1.691926 -1.959245         5           2\n",
       "Чувашская Республика               0.523262  0.259129         4           1\n",
       "Чукотский автономный округ        -4.111501  0.241878         6           5\n",
       "Ямало-Ненецкий автономный \\nокруг -3.776427 -3.825182         6           3\n",
       "Ярославская область               -0.461875  0.939669         3           1\n",
       "\n",
       "[83 rows x 4 columns]"
      ]
     },
     "execution_count": 30,
     "metadata": {},
     "output_type": "execute_result"
    }
   ],
   "source": [
    "#загружаем метки классов, полученные на 1 л/р для метода Уорда и К-средних\n",
    "\n",
    "classes = pd.read_excel('Уорда+k средних.xlsx', engine='openpyxl')\n",
    "F['ward_old'] = classes.ward_old.values\n",
    "F['kmeans_old'] = classes.kmeans_old.values\n",
    "F"
   ]
  },
  {
   "cell_type": "markdown",
   "metadata": {
    "id": "0KPy5EezPg6W"
   },
   "source": [
    "### Кластеризируем полученный результат и строим дендрограмму по методу Уорда"
   ]
  },
  {
   "cell_type": "code",
   "execution_count": 31,
   "metadata": {
    "id": "EnNPHKivUHQM"
   },
   "outputs": [],
   "source": [
    "#кластеризация\n",
    "from sklearn.cluster import AgglomerativeClustering, KMeans\n",
    "from scipy.cluster import hierarchy"
   ]
  },
  {
   "cell_type": "code",
   "execution_count": 32,
   "metadata": {
    "colab": {
     "base_uri": "https://localhost:8080/",
     "height": 969
    },
    "id": "unoRvvE7JWwP",
    "outputId": "aff27ba7-c8d5-4942-f57d-4b96f1efef30"
   },
   "outputs": [
    {
     "data": {
      "text/plain": [
       "Text(0.5, 1.0, 'ward method')"
      ]
     },
     "execution_count": 32,
     "metadata": {},
     "output_type": "execute_result"
    },
    {
     "data": {
      "image/png": "[encoded data removed]",
      "text/plain": [
       "<Figure size 1500x1200 with 1 Axes>"
      ]
     },
     "metadata": {},
     "output_type": "display_data"
    }
   ],
   "source": [
    "Z = hierarchy.linkage(F.iloc[:, :pc], method='ward', optimal_ordering=True)\n",
    "    #строим дендрограмму\n",
    "\n",
    "plt.figure(figsize=(15,12)) #задаем размеры окна с графиками\n",
    "\n",
    "hierarchy.dendrogram(Z, labels=F.index, leaf_font_size=10)\n",
    "\n",
    "  #Z - результат кластеризации, labels - названия строк (ось Х), leaf_font_size - размер шрифта\n",
    "\n",
    "plt.title('{} method'.format('ward'))"
   ]
  },
  {
   "cell_type": "markdown",
   "metadata": {
    "id": "S5-p4N2aO6c_"
   },
   "source": [
    "### Посчитать количество классов по гистограмме и записать это число в переменную n_clusters"
   ]
  },
  {
   "cell_type": "code",
   "execution_count": 35,
   "metadata": {
    "colab": {
     "base_uri": "https://localhost:8080/",
     "height": 455
    },
    "id": "GkEaUZIR7Fes",
    "outputId": "750c2a01-0a9c-4c4b-d185-49ad281fa8b7"
   },
   "outputs": [
    {
     "data": {
      "text/html": [
       "<div>\n",
       "<style scoped>\n",
       "    .dataframe tbody tr th:only-of-type {\n",
       "        vertical-align: middle;\n",
       "    }\n",
       "\n",
       "    .dataframe tbody tr th {\n",
       "        vertical-align: top;\n",
       "    }\n",
       "\n",
       "    .dataframe thead th {\n",
       "        text-align: right;\n",
       "    }\n",
       "</style>\n",
       "<table border=\"1\" class=\"dataframe\">\n",
       "  <thead>\n",
       "    <tr style=\"text-align: right;\">\n",
       "      <th></th>\n",
       "      <th>Factor_1</th>\n",
       "      <th>Factor_2</th>\n",
       "      <th>ward_old</th>\n",
       "      <th>kmeans_old</th>\n",
       "      <th>ward_new</th>\n",
       "      <th>kmeans_new</th>\n",
       "    </tr>\n",
       "    <tr>\n",
       "      <th>Регион</th>\n",
       "      <th></th>\n",
       "      <th></th>\n",
       "      <th></th>\n",
       "      <th></th>\n",
       "      <th></th>\n",
       "      <th></th>\n",
       "    </tr>\n",
       "  </thead>\n",
       "  <tbody>\n",
       "    <tr>\n",
       "      <th>Алтайский край</th>\n",
       "      <td>0.097016</td>\n",
       "      <td>1.379084</td>\n",
       "      <td>3</td>\n",
       "      <td>6</td>\n",
       "      <td>3</td>\n",
       "      <td>1</td>\n",
       "    </tr>\n",
       "    <tr>\n",
       "      <th>Амурская область</th>\n",
       "      <td>-0.996280</td>\n",
       "      <td>1.307527</td>\n",
       "      <td>3</td>\n",
       "      <td>6</td>\n",
       "      <td>5</td>\n",
       "      <td>1</td>\n",
       "    </tr>\n",
       "    <tr>\n",
       "      <th>Архангельская область</th>\n",
       "      <td>-0.359142</td>\n",
       "      <td>-0.351850</td>\n",
       "      <td>4</td>\n",
       "      <td>1</td>\n",
       "      <td>3</td>\n",
       "      <td>6</td>\n",
       "    </tr>\n",
       "    <tr>\n",
       "      <th>Астраханская область</th>\n",
       "      <td>0.077279</td>\n",
       "      <td>-0.102011</td>\n",
       "      <td>4</td>\n",
       "      <td>1</td>\n",
       "      <td>3</td>\n",
       "      <td>6</td>\n",
       "    </tr>\n",
       "    <tr>\n",
       "      <th>Белгородская область</th>\n",
       "      <td>0.431204</td>\n",
       "      <td>-0.588873</td>\n",
       "      <td>2</td>\n",
       "      <td>1</td>\n",
       "      <td>1</td>\n",
       "      <td>2</td>\n",
       "    </tr>\n",
       "    <tr>\n",
       "      <th>...</th>\n",
       "      <td>...</td>\n",
       "      <td>...</td>\n",
       "      <td>...</td>\n",
       "      <td>...</td>\n",
       "      <td>...</td>\n",
       "      <td>...</td>\n",
       "    </tr>\n",
       "    <tr>\n",
       "      <th>Чеченская Республика</th>\n",
       "      <td>1.691926</td>\n",
       "      <td>-1.959245</td>\n",
       "      <td>5</td>\n",
       "      <td>2</td>\n",
       "      <td>1</td>\n",
       "      <td>4</td>\n",
       "    </tr>\n",
       "    <tr>\n",
       "      <th>Чувашская Республика</th>\n",
       "      <td>0.523262</td>\n",
       "      <td>0.259129</td>\n",
       "      <td>4</td>\n",
       "      <td>1</td>\n",
       "      <td>3</td>\n",
       "      <td>6</td>\n",
       "    </tr>\n",
       "    <tr>\n",
       "      <th>Чукотский автономный округ</th>\n",
       "      <td>-4.111501</td>\n",
       "      <td>0.241878</td>\n",
       "      <td>6</td>\n",
       "      <td>5</td>\n",
       "      <td>2</td>\n",
       "      <td>3</td>\n",
       "    </tr>\n",
       "    <tr>\n",
       "      <th>Ямало-Ненецкий автономный \\nокруг</th>\n",
       "      <td>-3.776427</td>\n",
       "      <td>-3.825182</td>\n",
       "      <td>6</td>\n",
       "      <td>3</td>\n",
       "      <td>4</td>\n",
       "      <td>5</td>\n",
       "    </tr>\n",
       "    <tr>\n",
       "      <th>Ярославская область</th>\n",
       "      <td>-0.461875</td>\n",
       "      <td>0.939669</td>\n",
       "      <td>3</td>\n",
       "      <td>1</td>\n",
       "      <td>5</td>\n",
       "      <td>1</td>\n",
       "    </tr>\n",
       "  </tbody>\n",
       "</table>\n",
       "<p>83 rows × 6 columns</p>\n",
       "</div>"
      ],
      "text/plain": [
       "                                   Factor_1  Factor_2  ward_old  kmeans_old  \\\n",
       "Регион                                                                        \n",
       "Алтайский край                     0.097016  1.379084         3           6   \n",
       "Амурская область                  -0.996280  1.307527         3           6   \n",
       "Архангельская область             -0.359142 -0.351850         4           1   \n",
       "Астраханская область               0.077279 -0.102011         4           1   \n",
       "Белгородская область               0.431204 -0.588873         2           1   \n",
       "...                                     ...       ...       ...         ...   \n",
       "Чеченская Республика               1.691926 -1.959245         5           2   \n",
       "Чувашская Республика               0.523262  0.259129         4           1   \n",
       "Чукотский автономный округ        -4.111501  0.241878         6           5   \n",
       "Ямало-Ненецкий автономный \\nокруг -3.776427 -3.825182         6           3   \n",
       "Ярославская область               -0.461875  0.939669         3           1   \n",
       "\n",
       "                                   ward_new  kmeans_new  \n",
       "Регион                                                   \n",
       "Алтайский край                            3           1  \n",
       "Амурская область                          5           1  \n",
       "Архангельская область                     3           6  \n",
       "Астраханская область                      3           6  \n",
       "Белгородская область                      1           2  \n",
       "...                                     ...         ...  \n",
       "Чеченская Республика                      1           4  \n",
       "Чувашская Республика                      3           6  \n",
       "Чукотский автономный округ                2           3  \n",
       "Ямало-Ненецкий автономный \\nокруг         4           5  \n",
       "Ярославская область                       5           1  \n",
       "\n",
       "[83 rows x 6 columns]"
      ]
     },
     "execution_count": 35,
     "metadata": {},
     "output_type": "execute_result"
    }
   ],
   "source": [
    "n_clusters = 6 #изменить это значение!\n",
    "ward = AgglomerativeClustering(n_clusters=n_clusters , linkage='ward')\n",
    "ward.fit(F.iloc[:, :pc])\n",
    "\n",
    "kmeans = KMeans(n_clusters=n_clusters , random_state=36)\n",
    "kmeans.fit(F.iloc[:, :pc])\n",
    "# т.к. в питоне отсчет с нуля, то +1\n",
    "F['ward_new'] = ward.labels_+1\n",
    "F['kmeans_new'] = kmeans.labels_+1\n",
    "F"
   ]
  },
  {
   "cell_type": "markdown",
   "metadata": {
    "id": "lW8fdgoJVziu"
   },
   "source": [
    "### Построение двумерных графиков по методам Уорда и k-средних (после МГК для переменных Factor 1 и Factor 2)"
   ]
  },
  {
   "cell_type": "code",
   "execution_count": 36,
   "metadata": {
    "colab": {
     "base_uri": "https://localhost:8080/",
     "height": 1000
    },
    "id": "ZF0JWQdh7Fes",
    "outputId": "6cb83572-cd0d-4eb3-c2eb-a3ff163cd42e"
   },
   "outputs": [
    {
     "data": {
      "image/png": "[encoded data removed]",
      "text/plain": [
       "<Figure size 640x480 with 1 Axes>"
      ]
     },
     "metadata": {},
     "output_type": "display_data"
    },
    {
     "data": {
      "image/png": "[encoded data removed]",
      "text/plain": [
       "<Figure size 640x480 with 1 Axes>"
      ]
     },
     "metadata": {},
     "output_type": "display_data"
    },
    {
     "data": {
      "image/png": "[encoded data removed]",
      "text/plain": [
       "<Figure size 640x480 with 1 Axes>"
      ]
     },
     "metadata": {},
     "output_type": "display_data"
    },
    {
     "data": {
      "image/png": "[encoded data removed]",
      "text/plain": [
       "<Figure size 640x480 with 1 Axes>"
      ]
     },
     "metadata": {},
     "output_type": "display_data"
    }
   ],
   "source": [
    "#построение графика по factor 1 и factor 2\n",
    "\n",
    "for method in ['ward_old', 'kmeans_old', 'ward_new', 'kmeans_new']:\n",
    "    plt.title(method)\n",
    "    n_clusters = len(F[method].unique())\n",
    "    i=1\n",
    "    while (i <= n_clusters ): # Цикл по меткам классов\n",
    "        data = F[F[method] == i]\n",
    "        plt.plot(data.Factor_1, data.Factor_2, 'o', label=f'class {i}')\n",
    "        i += 1\n",
    "    plt.legend()\n",
    "    plt.show()\n"
   ]
  },
  {
   "cell_type": "markdown",
   "metadata": {
    "id": "zrj_E6SiWHxW"
   },
   "source": [
    "### Построение двумерных графиков по методам Уорда и k-средних (после МГК для переменных Factor 1 и Factor 3)\n",
    "#### ТОЛЬКО ДЛЯ 3 ГЛАВНЫХ КОМПОНЕНТ !!!"
   ]
  },
  {
   "cell_type": "code",
   "execution_count": 37,
   "metadata": {
    "colab": {
     "base_uri": "https://localhost:8080/",
     "height": 1000
    },
    "id": "XcOCIDUfqqhN",
    "outputId": "5468d41c-ccbe-482b-fbfe-226ca2826ccd"
   },
   "outputs": [
    {
     "ename": "AttributeError",
     "evalue": "'DataFrame' object has no attribute 'Factor_3'",
     "output_type": "error",
     "traceback": [
      "\u001b[1;31m---------------------------------------------------------------------------\u001b[0m",
      "\u001b[1;31mAttributeError\u001b[0m                            Traceback (most recent call last)",
      "\u001b[1;32m~\\AppData\\Local\\Temp\\ipykernel_8184\\4085114476.py\u001b[0m in \u001b[0;36m<module>\u001b[1;34m\u001b[0m\n\u001b[0;32m      7\u001b[0m     \u001b[1;32mwhile\u001b[0m \u001b[1;33m(\u001b[0m\u001b[0mi\u001b[0m \u001b[1;33m<=\u001b[0m \u001b[0mn_clusters\u001b[0m \u001b[1;33m)\u001b[0m\u001b[1;33m:\u001b[0m \u001b[1;31m# Цикл по меткам классов\u001b[0m\u001b[1;33m\u001b[0m\u001b[1;33m\u001b[0m\u001b[0m\n\u001b[0;32m      8\u001b[0m         \u001b[0mdata\u001b[0m \u001b[1;33m=\u001b[0m \u001b[0mF\u001b[0m\u001b[1;33m[\u001b[0m\u001b[0mF\u001b[0m\u001b[1;33m[\u001b[0m\u001b[0mmethod\u001b[0m\u001b[1;33m]\u001b[0m \u001b[1;33m==\u001b[0m \u001b[0mi\u001b[0m\u001b[1;33m]\u001b[0m\u001b[1;33m\u001b[0m\u001b[1;33m\u001b[0m\u001b[0m\n\u001b[1;32m----> 9\u001b[1;33m         \u001b[0mplt\u001b[0m\u001b[1;33m.\u001b[0m\u001b[0mplot\u001b[0m\u001b[1;33m(\u001b[0m\u001b[0mdata\u001b[0m\u001b[1;33m.\u001b[0m\u001b[0mFactor_1\u001b[0m\u001b[1;33m,\u001b[0m \u001b[0mdata\u001b[0m\u001b[1;33m.\u001b[0m\u001b[0mFactor_3\u001b[0m\u001b[1;33m,\u001b[0m \u001b[1;34m'o'\u001b[0m\u001b[1;33m,\u001b[0m \u001b[0mlabel\u001b[0m\u001b[1;33m=\u001b[0m\u001b[1;34mf'class {i}'\u001b[0m\u001b[1;33m)\u001b[0m\u001b[1;33m\u001b[0m\u001b[1;33m\u001b[0m\u001b[0m\n\u001b[0m\u001b[0;32m     10\u001b[0m         \u001b[0mi\u001b[0m \u001b[1;33m+=\u001b[0m \u001b[1;36m1\u001b[0m\u001b[1;33m\u001b[0m\u001b[1;33m\u001b[0m\u001b[0m\n\u001b[0;32m     11\u001b[0m     \u001b[0mplt\u001b[0m\u001b[1;33m.\u001b[0m\u001b[0mlegend\u001b[0m\u001b[1;33m(\u001b[0m\u001b[1;33m)\u001b[0m\u001b[1;33m\u001b[0m\u001b[1;33m\u001b[0m\u001b[0m\n",
      "\u001b[1;32m~\\anaconda3\\lib\\site-packages\\pandas\\core\\generic.py\u001b[0m in \u001b[0;36m__getattr__\u001b[1;34m(self, name)\u001b[0m\n\u001b[0;32m   5573\u001b[0m         ):\n\u001b[0;32m   5574\u001b[0m             \u001b[1;32mreturn\u001b[0m \u001b[0mself\u001b[0m\u001b[1;33m[\u001b[0m\u001b[0mname\u001b[0m\u001b[1;33m]\u001b[0m\u001b[1;33m\u001b[0m\u001b[1;33m\u001b[0m\u001b[0m\n\u001b[1;32m-> 5575\u001b[1;33m         \u001b[1;32mreturn\u001b[0m \u001b[0mobject\u001b[0m\u001b[1;33m.\u001b[0m\u001b[0m__getattribute__\u001b[0m\u001b[1;33m(\u001b[0m\u001b[0mself\u001b[0m\u001b[1;33m,\u001b[0m \u001b[0mname\u001b[0m\u001b[1;33m)\u001b[0m\u001b[1;33m\u001b[0m\u001b[1;33m\u001b[0m\u001b[0m\n\u001b[0m\u001b[0;32m   5576\u001b[0m \u001b[1;33m\u001b[0m\u001b[0m\n\u001b[0;32m   5577\u001b[0m     \u001b[1;32mdef\u001b[0m \u001b[0m__setattr__\u001b[0m\u001b[1;33m(\u001b[0m\u001b[0mself\u001b[0m\u001b[1;33m,\u001b[0m \u001b[0mname\u001b[0m\u001b[1;33m:\u001b[0m \u001b[0mstr\u001b[0m\u001b[1;33m,\u001b[0m \u001b[0mvalue\u001b[0m\u001b[1;33m)\u001b[0m \u001b[1;33m->\u001b[0m \u001b[1;32mNone\u001b[0m\u001b[1;33m:\u001b[0m\u001b[1;33m\u001b[0m\u001b[1;33m\u001b[0m\u001b[0m\n",
      "\u001b[1;31mAttributeError\u001b[0m: 'DataFrame' object has no attribute 'Factor_3'"
     ]
    },
    {
     "data": {
      "image/png": "[encoded data removed]",
      "text/plain": [
       "<Figure size 640x480 with 1 Axes>"
      ]
     },
     "metadata": {},
     "output_type": "display_data"
    }
   ],
   "source": [
    "#построение графика\n",
    "\n",
    "for method in ['ward_old', 'kmeans_old', 'ward_new', 'kmeans_new']:\n",
    "    plt.title(method)\n",
    "    n_clusters = len(F[method].unique())\n",
    "    i=1\n",
    "    while (i <= n_clusters ): # Цикл по меткам классов\n",
    "        data = F[F[method] == i]\n",
    "        plt.plot(data.Factor_1, data.Factor_3, 'o', label=f'class {i}')\n",
    "        i += 1\n",
    "    plt.legend()\n",
    "    plt.show()\n"
   ]
  },
  {
   "cell_type": "markdown",
   "metadata": {
    "id": "bOZVaVbvWdbR"
   },
   "source": [
    "### Построение трехмерного графика по методам Уорда и k-средних\n",
    "#### ТОЛЬКО ДЛЯ 3 ГЛАВНЫХ КОМПОНЕНТ !!!"
   ]
  },
  {
   "cell_type": "code",
   "execution_count": null,
   "metadata": {
    "colab": {
     "base_uri": "https://localhost:8080/",
     "height": 941
    },
    "id": "nMIYB4NC7Fet",
    "outputId": "320caf9f-4bbd-483a-b879-e080719e6bd2"
   },
   "outputs": [],
   "source": [
    "#трёхмерный график\n",
    "from mpl_toolkits.mplot3d import Axes3D\n",
    "\n",
    "for method in ['ward_old', 'kmeans_old', 'ward_new', 'kmeans_new']:\n",
    "    fig = plt.figure()\n",
    "    ax = fig.add_subplot(111, projection='3d')\n",
    "    ax.set_title(method)\n",
    "    n_clusters = len(F[method].unique())\n",
    "    i = 1\n",
    "    while (i <= n_clusters ): # Цикл по меткам классов\n",
    "        data = F[F[method] == i]\n",
    "        ax.scatter(data.Factor_1, data.Factor_2, data.Factor_3, 'o', label=f'class {i}') \n",
    "        i += 1\n",
    "    plt.legend()\n",
    "    plt.show()\n",
    "\n",
    "# label=f'class {i}'"
   ]
  },
  {
   "cell_type": "markdown",
   "metadata": {
    "id": "qwHEqQAEWzct"
   },
   "source": [
    "## Выгрузка полученных результатов в екселевский файл"
   ]
  },
  {
   "cell_type": "code",
   "execution_count": 38,
   "metadata": {
    "id": "GXzZidP67Fet"
   },
   "outputs": [],
   "source": [
    "#выгрузка в файл\n",
    "F.to_excel('Lab3_python.xlsx')"
   ]
  },
  {
   "cell_type": "code",
   "execution_count": null,
   "metadata": {},
   "outputs": [],
   "source": []
  }
 ],
 "metadata": {
  "colab": {
   "provenance": []
  },
  "interpreter": {
   "hash": "cc5f70855ac006f3de45a3cc3b9e7d8d53845e50458809cb162b0174266dec97"
  },
  "kernelspec": {
   "display_name": "Python 3 (ipykernel)",
   "language": "python",
   "name": "python3"
  },
  "language_info": {
   "codemirror_mode": {
    "name": "ipython",
    "version": 3
   },
   "file_extension": ".py",
   "mimetype": "text/x-python",
   "name": "python",
   "nbconvert_exporter": "python",
   "pygments_lexer": "ipython3",
   "version": "3.9.13"
  }
 },
 "nbformat": 4,
 "nbformat_minor": 1
}
